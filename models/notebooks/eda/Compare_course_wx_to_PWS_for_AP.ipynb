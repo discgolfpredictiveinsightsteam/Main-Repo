{
 "cells": [
  {
   "cell_type": "markdown",
   "metadata": {},
   "source": [
    "## Observed Weather Data Comparisons"
   ]
  },
  {
   "cell_type": "markdown",
   "metadata": {},
   "source": [
    "### Objective\n",
    "\n",
    "* Quantitative comparison between observed weather at disc golf courses and observed weather at nearby stations\n",
    "\n",
    "### Rationale\n",
    "\n",
    "* Why This?  Player performance is likely to be affected by actual weather at disc golf courses, but, particularly with regard to winds, micro-climatic effects can cause the actual winds at a course to differ significantly from observed winds at local weather stations.  Because forecast data is built on observations from nearby stations, forecasts will not capture these effects.  The only way to account for them is to compare observed information from actual courses with contemporaneous measurements at nearby stations.\n",
    "\n",
    "* Why Me?  I have both the meteorological background as well as the model-building responsibilities for this project.\n",
    "\n",
    "* Why Now?  This issue needs at least a preliminary resolution prior to the onset of model selection, as it may affect which weather characteristics (especially wind) are considered, and how uncertainties are handled."
   ]
  },
  {
   "cell_type": "markdown",
   "metadata": {},
   "source": [
    "### Requirements\n",
    "\n",
    "* Pandas 0.24.2\n",
    "* Matplotlib 3.1.0\n",
    "* Numpy 1.16.4\n",
    "* Scikit-learn 0.21.2\n",
    "* SciPy 1.2.1"
   ]
  },
  {
   "cell_type": "markdown",
   "metadata": {},
   "source": [
    "### Input / Output\n",
    "\n",
    "* The notebook is expected to be in the folder `models/notebooks/eda`\n",
    "\n",
    "* Input files for actual courses are in `models/wx_record/wx_at_course` while those for nearby stations (after processing) are at `models/wx_record/wx_station_by_date`\n",
    "\n",
    "* Actual weather data files should have filenames formatted as `{wx-type}_mmddyy_courseid_{id}.csv`, where {wx-type} is a word like 'wind', and 'mmddyy' is the observation date and {id} is the course_id (0 for Golden Gate, 1 for Chabot, 2 for Aquatic Park)\n",
    "\n",
    "* A mapping between weather station names and which courses they relate to is found in `models/geo/nearby_wunder_pws.csv`"
   ]
  },
  {
   "cell_type": "markdown",
   "metadata": {},
   "source": [
    "### Import / Set-Up"
   ]
  },
  {
   "cell_type": "code",
   "execution_count": 108,
   "metadata": {},
   "outputs": [],
   "source": [
    "import pandas as pd\n",
    "import numpy as np\n",
    "import matplotlib.pyplot as plt\n",
    "import glob\n",
    "from sklearn.metrics import r2_score\n",
    "import scipy.stats as st\n",
    "from pandas.plotting import register_matplotlib_converters\n",
    "register_matplotlib_converters()"
   ]
  },
  {
   "cell_type": "code",
   "execution_count": 4,
   "metadata": {
    "scrolled": true
   },
   "outputs": [
    {
     "data": {
      "text/html": [
       "<div>\n",
       "<style scoped>\n",
       "    .dataframe tbody tr th:only-of-type {\n",
       "        vertical-align: middle;\n",
       "    }\n",
       "\n",
       "    .dataframe tbody tr th {\n",
       "        vertical-align: top;\n",
       "    }\n",
       "\n",
       "    .dataframe thead th {\n",
       "        text-align: right;\n",
       "    }\n",
       "</style>\n",
       "<table border=\"1\" class=\"dataframe\">\n",
       "  <thead>\n",
       "    <tr style=\"text-align: right;\">\n",
       "      <th></th>\n",
       "      <th>station_id</th>\n",
       "      <th>latitude</th>\n",
       "      <th>longitude</th>\n",
       "      <th>course_id</th>\n",
       "      <th>comments</th>\n",
       "    </tr>\n",
       "  </thead>\n",
       "  <tbody>\n",
       "    <tr>\n",
       "      <th>0</th>\n",
       "      <td>KCABERKE85</td>\n",
       "      <td>NaN</td>\n",
       "      <td>NaN</td>\n",
       "      <td>2</td>\n",
       "      <td>no wind gust prior to 2018 and no wind guest i...</td>\n",
       "    </tr>\n",
       "    <tr>\n",
       "      <th>1</th>\n",
       "      <td>KCAALBAN12</td>\n",
       "      <td>NaN</td>\n",
       "      <td>NaN</td>\n",
       "      <td>2</td>\n",
       "      <td>winds appear significantly different on 7/24/19</td>\n",
       "    </tr>\n",
       "    <tr>\n",
       "      <th>2</th>\n",
       "      <td>KCABERKE104</td>\n",
       "      <td>NaN</td>\n",
       "      <td>NaN</td>\n",
       "      <td>2</td>\n",
       "      <td>NaN</td>\n",
       "    </tr>\n",
       "    <tr>\n",
       "      <th>3</th>\n",
       "      <td>KCABERKE28</td>\n",
       "      <td>NaN</td>\n",
       "      <td>NaN</td>\n",
       "      <td>2</td>\n",
       "      <td>NaN</td>\n",
       "    </tr>\n",
       "    <tr>\n",
       "      <th>4</th>\n",
       "      <td>KCASANFR1443</td>\n",
       "      <td>37.777023</td>\n",
       "      <td>-122.48484</td>\n",
       "      <td>0</td>\n",
       "      <td>NaN</td>\n",
       "    </tr>\n",
       "  </tbody>\n",
       "</table>\n",
       "</div>"
      ],
      "text/plain": [
       "     station_id   latitude  longitude  course_id  \\\n",
       "0    KCABERKE85        NaN        NaN          2   \n",
       "1    KCAALBAN12        NaN        NaN          2   \n",
       "2   KCABERKE104        NaN        NaN          2   \n",
       "3    KCABERKE28        NaN        NaN          2   \n",
       "4  KCASANFR1443  37.777023 -122.48484          0   \n",
       "\n",
       "                                            comments  \n",
       "0  no wind gust prior to 2018 and no wind guest i...  \n",
       "1    winds appear significantly different on 7/24/19  \n",
       "2                                                NaN  \n",
       "3                                                NaN  \n",
       "4                                                NaN  "
      ]
     },
     "execution_count": 4,
     "metadata": {},
     "output_type": "execute_result"
    }
   ],
   "source": [
    "pws_df = pd.read_csv('../../geo/nearby_wunder_pws.csv')\n",
    "pws_df.head()"
   ]
  },
  {
   "cell_type": "code",
   "execution_count": 8,
   "metadata": {},
   "outputs": [
    {
     "data": {
      "text/plain": [
       "['../../wx_record/wx_at_course\\\\wind_072419_courseid_2.csv']"
      ]
     },
     "execution_count": 8,
     "metadata": {},
     "output_type": "execute_result"
    }
   ],
   "source": [
    "# Get all data from actual courses\n",
    "actual_wx_files = [filename for filename in glob.glob('../../wx_record/wx_at_course/wind_*.csv')]\n",
    "actual_wx_files    "
   ]
  },
  {
   "cell_type": "code",
   "execution_count": 10,
   "metadata": {},
   "outputs": [
    {
     "data": {
      "text/plain": [
       "2"
      ]
     },
     "execution_count": 10,
     "metadata": {},
     "output_type": "execute_result"
    }
   ],
   "source": [
    "# ID course to pull station data from\n",
    "course_id = int(actual_wx_files[0].split('_courseid_')[1].split('.')[0])\n",
    "course_id"
   ]
  },
  {
   "cell_type": "code",
   "execution_count": 38,
   "metadata": {},
   "outputs": [
    {
     "data": {
      "text/plain": [
       "array(['KCABERKE85', 'KCAALBAN12', 'KCABERKE104', 'KCABERKE28'],\n",
       "      dtype=object)"
      ]
     },
     "execution_count": 38,
     "metadata": {},
     "output_type": "execute_result"
    }
   ],
   "source": [
    "# Get list of nearby weather stations for this course\n",
    "station_list = pws_df.loc[pws_df['course_id'] == course_id].station_id.values\n",
    "station_list"
   ]
  },
  {
   "cell_type": "code",
   "execution_count": 80,
   "metadata": {},
   "outputs": [
    {
     "name": "stdout",
     "output_type": "stream",
     "text": [
      "4 matching station records found:\n",
      "['KCABERKE85', 'KCAALBAN12', 'KCABERKE104', 'KCABERKE28']\n"
     ]
    }
   ],
   "source": [
    "# Get date\n",
    "wx_date = actual_wx_files[0].split('_courseid_')[0][-6:]\n",
    "# Note that the date formats are consistent for weather files as mmddyy, so we can use the date string directly\n",
    "# Find weather records by date and course id, create list of dataframes\n",
    "wx_data_list = []\n",
    "stations = []\n",
    "for station_name in station_list:\n",
    "    wx_filename = '../../wx_record/wx_station_by_date/' + station_name + '_' + wx_date + '_p01.csv'\n",
    "    try:\n",
    "        wx_df = pd.read_csv(wx_filename, parse_dates = ['time'])\n",
    "        # Clean as we go...\n",
    "        wx_df = wx_df.drop(columns = ['Unnamed: 0'])\n",
    "        wx_df = wx_df.set_index('time')\n",
    "        wx_df = wx_df.dropna()\n",
    "        wx_df = wx_df.sort_index()\n",
    "        wx_data_list.append(wx_df)\n",
    "        stations.append(station_name)\n",
    "    except ValueError:\n",
    "        pass\n",
    "print(len(wx_data_list), end=' ')\n",
    "print('matching station records found:')\n",
    "print(stations)"
   ]
  },
  {
   "cell_type": "code",
   "execution_count": 141,
   "metadata": {},
   "outputs": [
    {
     "data": {
      "text/html": [
       "<div>\n",
       "<style scoped>\n",
       "    .dataframe tbody tr th:only-of-type {\n",
       "        vertical-align: middle;\n",
       "    }\n",
       "\n",
       "    .dataframe tbody tr th {\n",
       "        vertical-align: top;\n",
       "    }\n",
       "\n",
       "    .dataframe thead th {\n",
       "        text-align: right;\n",
       "    }\n",
       "</style>\n",
       "<table border=\"1\" class=\"dataframe\">\n",
       "  <thead>\n",
       "    <tr style=\"text-align: right;\">\n",
       "      <th></th>\n",
       "      <th>Date</th>\n",
       "      <th>Time</th>\n",
       "      <th>Current</th>\n",
       "      <th>Min</th>\n",
       "      <th>Max</th>\n",
       "      <th>Ave</th>\n",
       "    </tr>\n",
       "  </thead>\n",
       "  <tbody>\n",
       "    <tr>\n",
       "      <th>0</th>\n",
       "      <td>24-Jul-19</td>\n",
       "      <td>14:03:41</td>\n",
       "      <td>10.5</td>\n",
       "      <td>0.0</td>\n",
       "      <td>15.0</td>\n",
       "      <td>6.1</td>\n",
       "    </tr>\n",
       "    <tr>\n",
       "      <th>1</th>\n",
       "      <td>24-Jul-19</td>\n",
       "      <td>14:04:41</td>\n",
       "      <td>7.2</td>\n",
       "      <td>4.1</td>\n",
       "      <td>11.4</td>\n",
       "      <td>7.4</td>\n",
       "    </tr>\n",
       "    <tr>\n",
       "      <th>2</th>\n",
       "      <td>24-Jul-19</td>\n",
       "      <td>14:05:41</td>\n",
       "      <td>7.0</td>\n",
       "      <td>3.6</td>\n",
       "      <td>11.1</td>\n",
       "      <td>6.9</td>\n",
       "    </tr>\n",
       "    <tr>\n",
       "      <th>3</th>\n",
       "      <td>24-Jul-19</td>\n",
       "      <td>14:06:41</td>\n",
       "      <td>8.2</td>\n",
       "      <td>2.4</td>\n",
       "      <td>8.7</td>\n",
       "      <td>6.4</td>\n",
       "    </tr>\n",
       "    <tr>\n",
       "      <th>4</th>\n",
       "      <td>24-Jul-19</td>\n",
       "      <td>14:07:41</td>\n",
       "      <td>4.3</td>\n",
       "      <td>2.3</td>\n",
       "      <td>7.7</td>\n",
       "      <td>4.3</td>\n",
       "    </tr>\n",
       "  </tbody>\n",
       "</table>\n",
       "</div>"
      ],
      "text/plain": [
       "        Date      Time Current  Min   Max  Ave\n",
       "0  24-Jul-19  14:03:41    10.5  0.0  15.0  6.1\n",
       "1  24-Jul-19  14:04:41     7.2  4.1  11.4  7.4\n",
       "2  24-Jul-19  14:05:41     7.0  3.6  11.1  6.9\n",
       "3  24-Jul-19  14:06:41     8.2  2.4   8.7  6.4\n",
       "4  24-Jul-19  14:07:41     4.3  2.3   7.7  4.3"
      ]
     },
     "execution_count": 141,
     "metadata": {},
     "output_type": "execute_result"
    }
   ],
   "source": [
    "#Now get the actual data for comparison\n",
    "course_wx_df = pd.read_csv(actual_wx_files[0], header = 2)\n",
    "course_wx_df.head()"
   ]
  },
  {
   "cell_type": "code",
   "execution_count": 142,
   "metadata": {},
   "outputs": [
    {
     "data": {
      "text/html": [
       "<div>\n",
       "<style scoped>\n",
       "    .dataframe tbody tr th:only-of-type {\n",
       "        vertical-align: middle;\n",
       "    }\n",
       "\n",
       "    .dataframe tbody tr th {\n",
       "        vertical-align: top;\n",
       "    }\n",
       "\n",
       "    .dataframe thead th {\n",
       "        text-align: right;\n",
       "    }\n",
       "</style>\n",
       "<table border=\"1\" class=\"dataframe\">\n",
       "  <thead>\n",
       "    <tr style=\"text-align: right;\">\n",
       "      <th></th>\n",
       "      <th>Current</th>\n",
       "      <th>Min</th>\n",
       "      <th>Max</th>\n",
       "      <th>Ave</th>\n",
       "    </tr>\n",
       "    <tr>\n",
       "      <th>dt</th>\n",
       "      <th></th>\n",
       "      <th></th>\n",
       "      <th></th>\n",
       "      <th></th>\n",
       "    </tr>\n",
       "  </thead>\n",
       "  <tbody>\n",
       "    <tr>\n",
       "      <th>2019-07-24 14:03:41</th>\n",
       "      <td>10.5</td>\n",
       "      <td>0.0</td>\n",
       "      <td>15.0</td>\n",
       "      <td>6.1</td>\n",
       "    </tr>\n",
       "    <tr>\n",
       "      <th>2019-07-24 14:04:41</th>\n",
       "      <td>7.2</td>\n",
       "      <td>4.1</td>\n",
       "      <td>11.4</td>\n",
       "      <td>7.4</td>\n",
       "    </tr>\n",
       "    <tr>\n",
       "      <th>2019-07-24 14:05:41</th>\n",
       "      <td>7.0</td>\n",
       "      <td>3.6</td>\n",
       "      <td>11.1</td>\n",
       "      <td>6.9</td>\n",
       "    </tr>\n",
       "    <tr>\n",
       "      <th>2019-07-24 14:06:41</th>\n",
       "      <td>8.2</td>\n",
       "      <td>2.4</td>\n",
       "      <td>8.7</td>\n",
       "      <td>6.4</td>\n",
       "    </tr>\n",
       "    <tr>\n",
       "      <th>2019-07-24 14:07:41</th>\n",
       "      <td>4.3</td>\n",
       "      <td>2.3</td>\n",
       "      <td>7.7</td>\n",
       "      <td>4.3</td>\n",
       "    </tr>\n",
       "  </tbody>\n",
       "</table>\n",
       "</div>"
      ],
      "text/plain": [
       "                     Current  Min   Max  Ave\n",
       "dt                                          \n",
       "2019-07-24 14:03:41     10.5  0.0  15.0  6.1\n",
       "2019-07-24 14:04:41      7.2  4.1  11.4  7.4\n",
       "2019-07-24 14:05:41      7.0  3.6  11.1  6.9\n",
       "2019-07-24 14:06:41      8.2  2.4   8.7  6.4\n",
       "2019-07-24 14:07:41      4.3  2.3   7.7  4.3"
      ]
     },
     "execution_count": 142,
     "metadata": {},
     "output_type": "execute_result"
    }
   ],
   "source": [
    "# Clean this file by dropping extraneous rows\n",
    "course_wx_df = course_wx_df.dropna()\n",
    "# Convert to numeric\n",
    "course_wx_df['Current'] = pd.to_numeric(course_wx_df['Current'], errors='coerce')\n",
    "course_wx_df['Min'] = pd.to_numeric(course_wx_df['Min'], errors='coerce')\n",
    "course_wx_df['Max'] = pd.to_numeric(course_wx_df['Max'], errors='coerce')\n",
    "course_wx_df['Ave'] = pd.to_numeric(course_wx_df['Ave'], errors='coerce')\n",
    "# Convert to time index\n",
    "course_wx_df['Date_Time'] = course_wx_df['Date'] + ' ' + course_wx_df['Time']\n",
    "course_wx_df['dt'] = pd.to_datetime(course_wx_df['Date_Time'], format = '%d-%b-%y %H:%M:%S', errors = 'coerce')\n",
    "course_wx_df = course_wx_df.drop(columns = ['Date','Time','Date_Time'])\n",
    "course_wx_df = course_wx_df.set_index('dt')\n",
    "course_wx_df = course_wx_df.dropna()\n",
    "course_wx_df.head()"
   ]
  },
  {
   "cell_type": "code",
   "execution_count": 143,
   "metadata": {},
   "outputs": [
    {
     "data": {
      "text/html": [
       "<div>\n",
       "<style scoped>\n",
       "    .dataframe tbody tr th:only-of-type {\n",
       "        vertical-align: middle;\n",
       "    }\n",
       "\n",
       "    .dataframe tbody tr th {\n",
       "        vertical-align: top;\n",
       "    }\n",
       "\n",
       "    .dataframe thead th {\n",
       "        text-align: right;\n",
       "    }\n",
       "</style>\n",
       "<table border=\"1\" class=\"dataframe\">\n",
       "  <thead>\n",
       "    <tr style=\"text-align: right;\">\n",
       "      <th></th>\n",
       "      <th>Current</th>\n",
       "      <th>Min</th>\n",
       "      <th>Max</th>\n",
       "      <th>Ave</th>\n",
       "    </tr>\n",
       "    <tr>\n",
       "      <th>dt</th>\n",
       "      <th></th>\n",
       "      <th></th>\n",
       "      <th></th>\n",
       "      <th></th>\n",
       "    </tr>\n",
       "  </thead>\n",
       "  <tbody>\n",
       "    <tr>\n",
       "      <th>2019-07-24 14:02:00</th>\n",
       "      <td>10.50</td>\n",
       "      <td>0.00</td>\n",
       "      <td>15.00</td>\n",
       "      <td>6.10</td>\n",
       "    </tr>\n",
       "    <tr>\n",
       "      <th>2019-07-24 14:04:00</th>\n",
       "      <td>7.10</td>\n",
       "      <td>3.85</td>\n",
       "      <td>11.25</td>\n",
       "      <td>7.15</td>\n",
       "    </tr>\n",
       "    <tr>\n",
       "      <th>2019-07-24 14:06:00</th>\n",
       "      <td>6.25</td>\n",
       "      <td>2.35</td>\n",
       "      <td>8.20</td>\n",
       "      <td>5.35</td>\n",
       "    </tr>\n",
       "    <tr>\n",
       "      <th>2019-07-24 14:08:00</th>\n",
       "      <td>2.95</td>\n",
       "      <td>1.75</td>\n",
       "      <td>10.00</td>\n",
       "      <td>5.75</td>\n",
       "    </tr>\n",
       "    <tr>\n",
       "      <th>2019-07-24 14:10:00</th>\n",
       "      <td>7.35</td>\n",
       "      <td>1.75</td>\n",
       "      <td>11.45</td>\n",
       "      <td>6.45</td>\n",
       "    </tr>\n",
       "  </tbody>\n",
       "</table>\n",
       "</div>"
      ],
      "text/plain": [
       "                     Current   Min    Max   Ave\n",
       "dt                                             \n",
       "2019-07-24 14:02:00    10.50  0.00  15.00  6.10\n",
       "2019-07-24 14:04:00     7.10  3.85  11.25  7.15\n",
       "2019-07-24 14:06:00     6.25  2.35   8.20  5.35\n",
       "2019-07-24 14:08:00     2.95  1.75  10.00  5.75\n",
       "2019-07-24 14:10:00     7.35  1.75  11.45  6.45"
      ]
     },
     "execution_count": 143,
     "metadata": {},
     "output_type": "execute_result"
    }
   ],
   "source": [
    "# How we convert data depends on weather station specifics\n",
    "# For KCABERKE85, the station provides a 2-minute average with avg? and max transmitted to PWS every five minutes\n",
    "# Step 1, make a 2-minute windowed version of course_wx_df, use averages\n",
    "course_2min_df = course_wx_df.resample('2T').mean()\n",
    "course_2min_df.head()"
   ]
  },
  {
   "cell_type": "code",
   "execution_count": 144,
   "metadata": {},
   "outputs": [
    {
     "data": {
      "text/html": [
       "<div>\n",
       "<style scoped>\n",
       "    .dataframe tbody tr th:only-of-type {\n",
       "        vertical-align: middle;\n",
       "    }\n",
       "\n",
       "    .dataframe tbody tr th {\n",
       "        vertical-align: top;\n",
       "    }\n",
       "\n",
       "    .dataframe thead th {\n",
       "        text-align: right;\n",
       "    }\n",
       "</style>\n",
       "<table border=\"1\" class=\"dataframe\">\n",
       "  <thead>\n",
       "    <tr style=\"text-align: right;\">\n",
       "      <th></th>\n",
       "      <th>Current</th>\n",
       "      <th>Min</th>\n",
       "      <th>Max</th>\n",
       "      <th>Ave</th>\n",
       "      <th>T</th>\n",
       "      <th>w_dir</th>\n",
       "      <th>w_spd</th>\n",
       "      <th>w_gust</th>\n",
       "      <th>rh</th>\n",
       "      <th>precip</th>\n",
       "    </tr>\n",
       "    <tr>\n",
       "      <th>dt</th>\n",
       "      <th></th>\n",
       "      <th></th>\n",
       "      <th></th>\n",
       "      <th></th>\n",
       "      <th></th>\n",
       "      <th></th>\n",
       "      <th></th>\n",
       "      <th></th>\n",
       "      <th></th>\n",
       "      <th></th>\n",
       "    </tr>\n",
       "  </thead>\n",
       "  <tbody>\n",
       "    <tr>\n",
       "      <th>2019-07-24 14:02:00</th>\n",
       "      <td>10.50</td>\n",
       "      <td>0.00</td>\n",
       "      <td>15.00</td>\n",
       "      <td>6.10</td>\n",
       "      <td>79.4</td>\n",
       "      <td>235.0</td>\n",
       "      <td>3.4</td>\n",
       "      <td>4.5</td>\n",
       "      <td>50.3</td>\n",
       "      <td>0.0</td>\n",
       "    </tr>\n",
       "    <tr>\n",
       "      <th>2019-07-24 14:04:00</th>\n",
       "      <td>7.10</td>\n",
       "      <td>3.85</td>\n",
       "      <td>11.25</td>\n",
       "      <td>7.15</td>\n",
       "      <td>79.4</td>\n",
       "      <td>235.0</td>\n",
       "      <td>3.4</td>\n",
       "      <td>4.5</td>\n",
       "      <td>50.3</td>\n",
       "      <td>0.0</td>\n",
       "    </tr>\n",
       "    <tr>\n",
       "      <th>2019-07-24 14:06:00</th>\n",
       "      <td>6.25</td>\n",
       "      <td>2.35</td>\n",
       "      <td>8.20</td>\n",
       "      <td>5.35</td>\n",
       "      <td>79.3</td>\n",
       "      <td>216.0</td>\n",
       "      <td>2.4</td>\n",
       "      <td>3.8</td>\n",
       "      <td>50.8</td>\n",
       "      <td>0.0</td>\n",
       "    </tr>\n",
       "    <tr>\n",
       "      <th>2019-07-24 14:08:00</th>\n",
       "      <td>2.95</td>\n",
       "      <td>1.75</td>\n",
       "      <td>10.00</td>\n",
       "      <td>5.75</td>\n",
       "      <td>79.3</td>\n",
       "      <td>216.0</td>\n",
       "      <td>2.4</td>\n",
       "      <td>3.8</td>\n",
       "      <td>50.8</td>\n",
       "      <td>0.0</td>\n",
       "    </tr>\n",
       "    <tr>\n",
       "      <th>2019-07-24 14:10:00</th>\n",
       "      <td>7.35</td>\n",
       "      <td>1.75</td>\n",
       "      <td>11.45</td>\n",
       "      <td>6.45</td>\n",
       "      <td>78.5</td>\n",
       "      <td>232.0</td>\n",
       "      <td>3.2</td>\n",
       "      <td>4.3</td>\n",
       "      <td>51.9</td>\n",
       "      <td>0.0</td>\n",
       "    </tr>\n",
       "  </tbody>\n",
       "</table>\n",
       "</div>"
      ],
      "text/plain": [
       "                     Current   Min    Max   Ave     T  w_dir  w_spd  w_gust  \\\n",
       "dt                                                                            \n",
       "2019-07-24 14:02:00    10.50  0.00  15.00  6.10  79.4  235.0    3.4     4.5   \n",
       "2019-07-24 14:04:00     7.10  3.85  11.25  7.15  79.4  235.0    3.4     4.5   \n",
       "2019-07-24 14:06:00     6.25  2.35   8.20  5.35  79.3  216.0    2.4     3.8   \n",
       "2019-07-24 14:08:00     2.95  1.75  10.00  5.75  79.3  216.0    2.4     3.8   \n",
       "2019-07-24 14:10:00     7.35  1.75  11.45  6.45  78.5  232.0    3.2     4.3   \n",
       "\n",
       "                       rh  precip  \n",
       "dt                                 \n",
       "2019-07-24 14:02:00  50.3     0.0  \n",
       "2019-07-24 14:04:00  50.3     0.0  \n",
       "2019-07-24 14:06:00  50.8     0.0  \n",
       "2019-07-24 14:08:00  50.8     0.0  \n",
       "2019-07-24 14:10:00  51.9     0.0  "
      ]
     },
     "execution_count": 144,
     "metadata": {},
     "output_type": "execute_result"
    }
   ],
   "source": [
    "# Step 2, merge with weather station data, broadcasting the lower frequency PWS data \n",
    "# Merging asof should go forwards, since the synthetic 2-minute data would have to precede a PWS 5-minute report\n",
    "merged_wx_df = pd.merge_asof(course_2min_df, wx_data_list[0], left_index=True, right_index=True, direction='forward')\n",
    "merged_wx_df.head()"
   ]
  },
  {
   "cell_type": "code",
   "execution_count": 145,
   "metadata": {},
   "outputs": [
    {
     "data": {
      "text/html": [
       "<div>\n",
       "<style scoped>\n",
       "    .dataframe tbody tr th:only-of-type {\n",
       "        vertical-align: middle;\n",
       "    }\n",
       "\n",
       "    .dataframe tbody tr th {\n",
       "        vertical-align: top;\n",
       "    }\n",
       "\n",
       "    .dataframe thead th {\n",
       "        text-align: right;\n",
       "    }\n",
       "</style>\n",
       "<table border=\"1\" class=\"dataframe\">\n",
       "  <thead>\n",
       "    <tr style=\"text-align: right;\">\n",
       "      <th></th>\n",
       "      <th>Ave</th>\n",
       "      <th>w_dir</th>\n",
       "      <th>w_spd</th>\n",
       "      <th>w_gust</th>\n",
       "      <th>Dir</th>\n",
       "    </tr>\n",
       "    <tr>\n",
       "      <th>dt</th>\n",
       "      <th></th>\n",
       "      <th></th>\n",
       "      <th></th>\n",
       "      <th></th>\n",
       "      <th></th>\n",
       "    </tr>\n",
       "  </thead>\n",
       "  <tbody>\n",
       "    <tr>\n",
       "      <th>2019-07-24 14:02:00</th>\n",
       "      <td>6.10</td>\n",
       "      <td>235.0</td>\n",
       "      <td>3.4</td>\n",
       "      <td>4.5</td>\n",
       "      <td>270</td>\n",
       "    </tr>\n",
       "    <tr>\n",
       "      <th>2019-07-24 14:04:00</th>\n",
       "      <td>7.15</td>\n",
       "      <td>235.0</td>\n",
       "      <td>3.4</td>\n",
       "      <td>4.5</td>\n",
       "      <td>270</td>\n",
       "    </tr>\n",
       "    <tr>\n",
       "      <th>2019-07-24 14:06:00</th>\n",
       "      <td>5.35</td>\n",
       "      <td>216.0</td>\n",
       "      <td>2.4</td>\n",
       "      <td>3.8</td>\n",
       "      <td>270</td>\n",
       "    </tr>\n",
       "    <tr>\n",
       "      <th>2019-07-24 14:08:00</th>\n",
       "      <td>5.75</td>\n",
       "      <td>216.0</td>\n",
       "      <td>2.4</td>\n",
       "      <td>3.8</td>\n",
       "      <td>270</td>\n",
       "    </tr>\n",
       "    <tr>\n",
       "      <th>2019-07-24 14:10:00</th>\n",
       "      <td>6.45</td>\n",
       "      <td>232.0</td>\n",
       "      <td>3.2</td>\n",
       "      <td>4.3</td>\n",
       "      <td>270</td>\n",
       "    </tr>\n",
       "  </tbody>\n",
       "</table>\n",
       "</div>"
      ],
      "text/plain": [
       "                      Ave  w_dir  w_spd  w_gust  Dir\n",
       "dt                                                  \n",
       "2019-07-24 14:02:00  6.10  235.0    3.4     4.5  270\n",
       "2019-07-24 14:04:00  7.15  235.0    3.4     4.5  270\n",
       "2019-07-24 14:06:00  5.35  216.0    2.4     3.8  270\n",
       "2019-07-24 14:08:00  5.75  216.0    2.4     3.8  270\n",
       "2019-07-24 14:10:00  6.45  232.0    3.2     4.3  270"
      ]
     },
     "execution_count": 145,
     "metadata": {},
     "output_type": "execute_result"
    }
   ],
   "source": [
    "# Step 3, to match the way gusts are reported, we need to find the avg and max of 'ave' for a 5-minute interval\n",
    "# To do that, we will cut out the min and max columns, add a '270' for direction columnm, and remove T, rh, and precip\n",
    "merged_wx_df = merged_wx_df.drop(columns = ['Current','Min','Max','T','rh','precip'])\n",
    "merged_wx_df['Dir'] = 270\n",
    "merged_wx_df.head()"
   ]
  },
  {
   "cell_type": "code",
   "execution_count": 146,
   "metadata": {},
   "outputs": [
    {
     "data": {
      "text/html": [
       "<div>\n",
       "<style scoped>\n",
       "    .dataframe tbody tr th:only-of-type {\n",
       "        vertical-align: middle;\n",
       "    }\n",
       "\n",
       "    .dataframe tbody tr th {\n",
       "        vertical-align: top;\n",
       "    }\n",
       "\n",
       "    .dataframe thead th {\n",
       "        text-align: right;\n",
       "    }\n",
       "</style>\n",
       "<table border=\"1\" class=\"dataframe\">\n",
       "  <thead>\n",
       "    <tr style=\"text-align: right;\">\n",
       "      <th></th>\n",
       "      <th>course_spd</th>\n",
       "      <th>course_gust</th>\n",
       "      <th>PWS_dir</th>\n",
       "      <th>PWS_spd</th>\n",
       "      <th>PWS_gust</th>\n",
       "      <th>course_dir</th>\n",
       "    </tr>\n",
       "    <tr>\n",
       "      <th>dt</th>\n",
       "      <th></th>\n",
       "      <th></th>\n",
       "      <th></th>\n",
       "      <th></th>\n",
       "      <th></th>\n",
       "      <th></th>\n",
       "    </tr>\n",
       "  </thead>\n",
       "  <tbody>\n",
       "    <tr>\n",
       "      <th>2019-07-24 14:00:00</th>\n",
       "      <td>6.625000</td>\n",
       "      <td>7.15</td>\n",
       "      <td>235.0</td>\n",
       "      <td>3.4</td>\n",
       "      <td>4.5</td>\n",
       "      <td>270</td>\n",
       "    </tr>\n",
       "    <tr>\n",
       "      <th>2019-07-24 14:05:00</th>\n",
       "      <td>5.550000</td>\n",
       "      <td>5.75</td>\n",
       "      <td>216.0</td>\n",
       "      <td>2.4</td>\n",
       "      <td>3.8</td>\n",
       "      <td>270</td>\n",
       "    </tr>\n",
       "    <tr>\n",
       "      <th>2019-07-24 14:10:00</th>\n",
       "      <td>6.266667</td>\n",
       "      <td>7.10</td>\n",
       "      <td>232.0</td>\n",
       "      <td>3.2</td>\n",
       "      <td>4.3</td>\n",
       "      <td>270</td>\n",
       "    </tr>\n",
       "    <tr>\n",
       "      <th>2019-07-24 14:15:00</th>\n",
       "      <td>4.125000</td>\n",
       "      <td>4.20</td>\n",
       "      <td>214.0</td>\n",
       "      <td>2.9</td>\n",
       "      <td>4.6</td>\n",
       "      <td>270</td>\n",
       "    </tr>\n",
       "    <tr>\n",
       "      <th>2019-07-24 14:20:00</th>\n",
       "      <td>5.966667</td>\n",
       "      <td>8.25</td>\n",
       "      <td>247.0</td>\n",
       "      <td>4.8</td>\n",
       "      <td>6.7</td>\n",
       "      <td>270</td>\n",
       "    </tr>\n",
       "  </tbody>\n",
       "</table>\n",
       "</div>"
      ],
      "text/plain": [
       "                     course_spd  course_gust  PWS_dir  PWS_spd  PWS_gust  \\\n",
       "dt                                                                         \n",
       "2019-07-24 14:00:00    6.625000         7.15    235.0      3.4       4.5   \n",
       "2019-07-24 14:05:00    5.550000         5.75    216.0      2.4       3.8   \n",
       "2019-07-24 14:10:00    6.266667         7.10    232.0      3.2       4.3   \n",
       "2019-07-24 14:15:00    4.125000         4.20    214.0      2.9       4.6   \n",
       "2019-07-24 14:20:00    5.966667         8.25    247.0      4.8       6.7   \n",
       "\n",
       "                     course_dir  \n",
       "dt                               \n",
       "2019-07-24 14:00:00         270  \n",
       "2019-07-24 14:05:00         270  \n",
       "2019-07-24 14:10:00         270  \n",
       "2019-07-24 14:15:00         270  \n",
       "2019-07-24 14:20:00         270  "
      ]
     },
     "execution_count": 146,
     "metadata": {},
     "output_type": "execute_result"
    }
   ],
   "source": [
    "# Now do the resampling via dictionary\n",
    "merged_5min_df = merged_wx_df.resample('5T').agg({'Ave':['mean','max'],'w_dir':'mean','w_spd':'mean',\n",
    "                                                 'w_gust':'max','Dir':'mean'})\n",
    "#Get rid of multi-index\n",
    "merged_5min_df.columns = ['course_spd','course_gust','PWS_dir','PWS_spd','PWS_gust','course_dir']\n",
    "merged_5min_df.head()"
   ]
  },
  {
   "cell_type": "code",
   "execution_count": 147,
   "metadata": {},
   "outputs": [
    {
     "data": {
      "text/plain": [
       "<matplotlib.legend.Legend at 0x17eed947d68>"
      ]
     },
     "execution_count": 147,
     "metadata": {},
     "output_type": "execute_result"
    },
    {
     "data": {
      "image/png": "[encoded data removed]",
      "text/plain": [
       "<Figure size 432x288 with 1 Axes>"
      ]
     },
     "metadata": {
      "needs_background": "light"
     },
     "output_type": "display_data"
    }
   ],
   "source": [
    "#Now do some plotting\n",
    "plt.plot(merged_5min_df['course_spd'], label='at course', c='darkblue')\n",
    "plt.plot(merged_5min_df['PWS_spd'], label='KCABERK85', c='orange')\n",
    "plt.legend(loc='best')"
   ]
  },
  {
   "cell_type": "code",
   "execution_count": 148,
   "metadata": {},
   "outputs": [
    {
     "data": {
      "text/plain": [
       "2.2868492063492063"
      ]
     },
     "execution_count": 148,
     "metadata": {},
     "output_type": "execute_result"
    }
   ],
   "source": [
    "#Let's do some statistics -- mean squared error\n",
    "dif = np.subtract(merged_5min_df['course_spd'].values, merged_5min_df['PWS_spd'].values)\n",
    "mse = np.sum(np.square(dif)) / len(merged_5min_df)\n",
    "mse"
   ]
  },
  {
   "cell_type": "code",
   "execution_count": 149,
   "metadata": {
    "scrolled": true
   },
   "outputs": [
    {
     "name": "stdout",
     "output_type": "stream",
     "text": [
      "0.20434139583273167\n",
      "-0.18288508637754575\n"
     ]
    }
   ],
   "source": [
    "# Correlation\n",
    "print(merged_5min_df['course_spd'].corr(merged_5min_df['PWS_spd']))\n",
    "# Coeff of determination\n",
    "print(r2_score(merged_5min_df['course_spd'].values, merged_5min_df['PWS_spd'].values))"
   ]
  },
  {
   "cell_type": "code",
   "execution_count": 150,
   "metadata": {},
   "outputs": [
    {
     "name": "stdout",
     "output_type": "stream",
     "text": [
      "Mean squared error:6.7345\n",
      "Pearson correlation coefficient:0.08231207243944771\n",
      "Coefficient of determination\n",
      "-1.7240963994663918\n"
     ]
    },
    {
     "data": {
      "image/png": "[encoded data removed]",
      "text/plain": [
       "<Figure size 432x288 with 1 Axes>"
      ]
     },
     "metadata": {
      "needs_background": "light"
     },
     "output_type": "display_data"
    }
   ],
   "source": [
    "#Check gusts\n",
    "plt.plot(merged_5min_df['course_gust'], label='at course', c='darkblue')\n",
    "plt.plot(merged_5min_df['PWS_gust'], label='KCABERK85', c='orange')\n",
    "plt.legend(loc='best')\n",
    "dif = np.subtract(merged_5min_df['course_gust'].values, merged_5min_df['PWS_gust'].values)\n",
    "mse = np.sum(np.square(dif)) / len(merged_5min_df)\n",
    "print('Mean squared error', end=':')\n",
    "print(mse)\n",
    "print('Pearson correlation coefficient', end=':')\n",
    "print(merged_5min_df['course_gust'].corr(merged_5min_df['PWS_gust']))\n",
    "print('Coefficient of determination')\n",
    "print(r2_score(merged_5min_df['course_gust'].values, merged_5min_df['PWS_gust'].values))"
   ]
  },
  {
   "cell_type": "code",
   "execution_count": 151,
   "metadata": {},
   "outputs": [
    {
     "name": "stdout",
     "output_type": "stream",
     "text": [
      "Mean squared error:3690.9142857142856\n",
      "Pearson correlation coefficient:nan\n",
      "Coefficient of determination\n",
      "0.0\n"
     ]
    },
    {
     "data": {
      "image/png": "[encoded data removed]",
      "text/plain": [
       "<Figure size 432x288 with 1 Axes>"
      ]
     },
     "metadata": {
      "needs_background": "light"
     },
     "output_type": "display_data"
    }
   ],
   "source": [
    "#Check direction\n",
    "plt.plot(merged_5min_df['course_dir'], label='at course', c='darkblue')\n",
    "plt.plot(merged_5min_df['PWS_dir'], label='KCABERK85', c='orange')\n",
    "plt.legend(loc='best')\n",
    "dif = np.subtract(merged_5min_df['course_dir'].values, merged_5min_df['PWS_dir'].values)\n",
    "mse = np.sum(np.square(dif)) / len(merged_5min_df)\n",
    "print('Mean squared error', end=':')\n",
    "print(mse)\n",
    "print('Pearson correlation coefficient', end=':')\n",
    "print(merged_5min_df['course_dir'].corr(merged_5min_df['PWS_dir']))\n",
    "print('Coefficient of determination')\n",
    "print(r2_score(merged_5min_df['course_dir'].values, merged_5min_df['PWS_dir'].values))"
   ]
  },
  {
   "cell_type": "code",
   "execution_count": 152,
   "metadata": {},
   "outputs": [
    {
     "data": {
      "text/html": [
       "<div>\n",
       "<style scoped>\n",
       "    .dataframe tbody tr th:only-of-type {\n",
       "        vertical-align: middle;\n",
       "    }\n",
       "\n",
       "    .dataframe tbody tr th {\n",
       "        vertical-align: top;\n",
       "    }\n",
       "\n",
       "    .dataframe thead th {\n",
       "        text-align: right;\n",
       "    }\n",
       "</style>\n",
       "<table border=\"1\" class=\"dataframe\">\n",
       "  <thead>\n",
       "    <tr style=\"text-align: right;\">\n",
       "      <th></th>\n",
       "      <th>Current</th>\n",
       "      <th>Min</th>\n",
       "      <th>Max</th>\n",
       "      <th>Ave</th>\n",
       "      <th>gust_16</th>\n",
       "      <th>Dir</th>\n",
       "    </tr>\n",
       "    <tr>\n",
       "      <th>dt</th>\n",
       "      <th></th>\n",
       "      <th></th>\n",
       "      <th></th>\n",
       "      <th></th>\n",
       "      <th></th>\n",
       "      <th></th>\n",
       "    </tr>\n",
       "  </thead>\n",
       "  <tbody>\n",
       "    <tr>\n",
       "      <th>2019-07-24 14:03:41</th>\n",
       "      <td>10.5</td>\n",
       "      <td>0.0</td>\n",
       "      <td>15.0</td>\n",
       "      <td>6.1</td>\n",
       "      <td>13.025001</td>\n",
       "      <td>270</td>\n",
       "    </tr>\n",
       "    <tr>\n",
       "      <th>2019-07-24 14:04:41</th>\n",
       "      <td>7.2</td>\n",
       "      <td>4.1</td>\n",
       "      <td>11.4</td>\n",
       "      <td>7.4</td>\n",
       "      <td>10.512360</td>\n",
       "      <td>270</td>\n",
       "    </tr>\n",
       "    <tr>\n",
       "      <th>2019-07-24 14:05:41</th>\n",
       "      <td>7.0</td>\n",
       "      <td>3.6</td>\n",
       "      <td>11.1</td>\n",
       "      <td>6.9</td>\n",
       "      <td>10.167978</td>\n",
       "      <td>270</td>\n",
       "    </tr>\n",
       "    <tr>\n",
       "      <th>2019-07-24 14:06:41</th>\n",
       "      <td>8.2</td>\n",
       "      <td>2.4</td>\n",
       "      <td>8.7</td>\n",
       "      <td>6.4</td>\n",
       "      <td>8.189607</td>\n",
       "      <td>270</td>\n",
       "    </tr>\n",
       "    <tr>\n",
       "      <th>2019-07-24 14:07:41</th>\n",
       "      <td>4.3</td>\n",
       "      <td>2.3</td>\n",
       "      <td>7.7</td>\n",
       "      <td>4.3</td>\n",
       "      <td>6.945506</td>\n",
       "      <td>270</td>\n",
       "    </tr>\n",
       "  </tbody>\n",
       "</table>\n",
       "</div>"
      ],
      "text/plain": [
       "                     Current  Min   Max  Ave    gust_16  Dir\n",
       "dt                                                          \n",
       "2019-07-24 14:03:41     10.5  0.0  15.0  6.1  13.025001  270\n",
       "2019-07-24 14:04:41      7.2  4.1  11.4  7.4  10.512360  270\n",
       "2019-07-24 14:05:41      7.0  3.6  11.1  6.9  10.167978  270\n",
       "2019-07-24 14:06:41      8.2  2.4   8.7  6.4   8.189607  270\n",
       "2019-07-24 14:07:41      4.3  2.3   7.7  4.3   6.945506  270"
      ]
     },
     "execution_count": 152,
     "metadata": {},
     "output_type": "execute_result"
    }
   ],
   "source": [
    "# Next station, KCAALBAN12\n",
    "# To simulate this station, we need to take synthetic 16-second avg and max intervals, then average them over 5 minutes\n",
    "# 1) Synthetic 16 sec max value from 1s / 60s data, assuming a Gaussian distributed wind speed\n",
    "course_wx_df['gust_16'] = course_wx_df['Ave'] + st.norm.ppf(1.0 - 1/32) / st.norm.ppf (1.0 - 1/120) \\\n",
    "                          * (course_wx_df['Max'] - course_wx_df['Ave'])\n",
    "# Add in wind direction\n",
    "course_wx_df['Dir'] = 270\n",
    "course_wx_df.head()"
   ]
  },
  {
   "cell_type": "code",
   "execution_count": 153,
   "metadata": {},
   "outputs": [
    {
     "data": {
      "text/html": [
       "<div>\n",
       "<style scoped>\n",
       "    .dataframe tbody tr th:only-of-type {\n",
       "        vertical-align: middle;\n",
       "    }\n",
       "\n",
       "    .dataframe tbody tr th {\n",
       "        vertical-align: top;\n",
       "    }\n",
       "\n",
       "    .dataframe thead th {\n",
       "        text-align: right;\n",
       "    }\n",
       "</style>\n",
       "<table border=\"1\" class=\"dataframe\">\n",
       "  <thead>\n",
       "    <tr style=\"text-align: right;\">\n",
       "      <th></th>\n",
       "      <th>course_spd</th>\n",
       "      <th>course_gust</th>\n",
       "      <th>course_dir</th>\n",
       "      <th>PWS_dir</th>\n",
       "      <th>PWS_spd</th>\n",
       "      <th>PWS_gust</th>\n",
       "    </tr>\n",
       "    <tr>\n",
       "      <th>dt</th>\n",
       "      <th></th>\n",
       "      <th></th>\n",
       "      <th></th>\n",
       "      <th></th>\n",
       "      <th></th>\n",
       "      <th></th>\n",
       "    </tr>\n",
       "  </thead>\n",
       "  <tbody>\n",
       "    <tr>\n",
       "      <th>2019-07-24 14:00:00</th>\n",
       "      <td>6.75</td>\n",
       "      <td>11.768681</td>\n",
       "      <td>270</td>\n",
       "      <td>217.0</td>\n",
       "      <td>9.50</td>\n",
       "      <td>12.85</td>\n",
       "    </tr>\n",
       "    <tr>\n",
       "      <th>2019-07-24 14:05:00</th>\n",
       "      <td>5.82</td>\n",
       "      <td>8.683371</td>\n",
       "      <td>270</td>\n",
       "      <td>216.0</td>\n",
       "      <td>9.84</td>\n",
       "      <td>12.90</td>\n",
       "    </tr>\n",
       "    <tr>\n",
       "      <th>2019-07-24 14:10:00</th>\n",
       "      <td>6.34</td>\n",
       "      <td>9.405675</td>\n",
       "      <td>270</td>\n",
       "      <td>212.2</td>\n",
       "      <td>10.20</td>\n",
       "      <td>13.62</td>\n",
       "    </tr>\n",
       "    <tr>\n",
       "      <th>2019-07-24 14:15:00</th>\n",
       "      <td>4.48</td>\n",
       "      <td>7.203315</td>\n",
       "      <td>270</td>\n",
       "      <td>208.2</td>\n",
       "      <td>9.98</td>\n",
       "      <td>13.76</td>\n",
       "    </tr>\n",
       "    <tr>\n",
       "      <th>2019-07-24 14:20:00</th>\n",
       "      <td>5.94</td>\n",
       "      <td>9.674832</td>\n",
       "      <td>270</td>\n",
       "      <td>211.8</td>\n",
       "      <td>8.82</td>\n",
       "      <td>12.12</td>\n",
       "    </tr>\n",
       "  </tbody>\n",
       "</table>\n",
       "</div>"
      ],
      "text/plain": [
       "                     course_spd  course_gust  course_dir  PWS_dir  PWS_spd  \\\n",
       "dt                                                                           \n",
       "2019-07-24 14:00:00        6.75    11.768681         270    217.0     9.50   \n",
       "2019-07-24 14:05:00        5.82     8.683371         270    216.0     9.84   \n",
       "2019-07-24 14:10:00        6.34     9.405675         270    212.2    10.20   \n",
       "2019-07-24 14:15:00        4.48     7.203315         270    208.2     9.98   \n",
       "2019-07-24 14:20:00        5.94     9.674832         270    211.8     8.82   \n",
       "\n",
       "                     PWS_gust  \n",
       "dt                             \n",
       "2019-07-24 14:00:00     12.85  \n",
       "2019-07-24 14:05:00     12.90  \n",
       "2019-07-24 14:10:00     13.62  \n",
       "2019-07-24 14:15:00     13.76  \n",
       "2019-07-24 14:20:00     12.12  "
      ]
     },
     "execution_count": 153,
     "metadata": {},
     "output_type": "execute_result"
    }
   ],
   "source": [
    "#2) Merge and resample at 5-min intervals -- use forward PWS reporting as explained earlier\n",
    "merged_wx_df = pd.merge_asof(course_wx_df, wx_data_list[1], left_index=True, right_index=True, direction='forward')\n",
    "# Now do the resampling via simple mean\n",
    "merged_5min_df = merged_wx_df.resample('5T').mean()\n",
    "# Clean up\n",
    "merged_5min_df = merged_5min_df.drop(columns = ['Current','Min','Max','T','rh','precip'])\n",
    "merged_5min_df.columns = ['course_spd','course_gust','course_dir','PWS_dir','PWS_spd','PWS_gust']\n",
    "merged_5min_df.head()"
   ]
  },
  {
   "cell_type": "code",
   "execution_count": 154,
   "metadata": {},
   "outputs": [
    {
     "name": "stdout",
     "output_type": "stream",
     "text": [
      "Mean squared error:49.51566714285715\n",
      "Pearson correlation coefficient:-0.3730139960360954\n",
      "Coefficient of determination\n",
      "-23.449670424372638\n"
     ]
    },
    {
     "data": {
      "image/png": "[encoded data removed]",
      "text/plain": [
       "<Figure size 432x288 with 1 Axes>"
      ]
     },
     "metadata": {
      "needs_background": "light"
     },
     "output_type": "display_data"
    }
   ],
   "source": [
    "# Analyze speeds \n",
    "plt.plot(merged_5min_df['course_spd'], label='at course', c='darkblue')\n",
    "plt.plot(merged_5min_df['PWS_spd'], label='KCAALBAN12', c='orange')\n",
    "plt.legend(loc='best')\n",
    "dif = np.subtract(merged_5min_df['course_spd'].values, merged_5min_df['PWS_spd'].values)\n",
    "mse = np.sum(np.square(dif)) / len(merged_5min_df)\n",
    "print('Mean squared error', end=':')\n",
    "print(mse)\n",
    "print('Pearson correlation coefficient', end=':')\n",
    "print(merged_5min_df['course_spd'].corr(merged_5min_df['PWS_spd']))\n",
    "print('Coefficient of determination')\n",
    "print(r2_score(merged_5min_df['course_spd'].values, merged_5min_df['PWS_spd'].values))"
   ]
  },
  {
   "cell_type": "code",
   "execution_count": 155,
   "metadata": {},
   "outputs": [
    {
     "name": "stdout",
     "output_type": "stream",
     "text": [
      "Mean squared error:67.045804416395\n",
      "Pearson correlation coefficient:-0.1970384355288609\n",
      "Coefficient of determination\n",
      "-14.125877665815695\n"
     ]
    },
    {
     "data": {
      "image/png": "[encoded data removed]",
      "text/plain": [
       "<Figure size 432x288 with 1 Axes>"
      ]
     },
     "metadata": {
      "needs_background": "light"
     },
     "output_type": "display_data"
    }
   ],
   "source": [
    "# Analyze gusts \n",
    "plt.plot(merged_5min_df['course_gust'], label='at course', c='darkblue')\n",
    "plt.plot(merged_5min_df['PWS_gust'], label='KCAALBAN12', c='orange')\n",
    "plt.legend(loc='best')\n",
    "dif = np.subtract(merged_5min_df['course_gust'].values, merged_5min_df['PWS_gust'].values)\n",
    "mse = np.sum(np.square(dif)) / len(merged_5min_df)\n",
    "print('Mean squared error', end=':')\n",
    "print(mse)\n",
    "print('Pearson correlation coefficient', end=':')\n",
    "print(merged_5min_df['course_gust'].corr(merged_5min_df['PWS_gust']))\n",
    "print('Coefficient of determination')\n",
    "print(r2_score(merged_5min_df['course_gust'].values, merged_5min_df['PWS_gust'].values))"
   ]
  },
  {
   "cell_type": "code",
   "execution_count": 156,
   "metadata": {},
   "outputs": [
    {
     "name": "stdout",
     "output_type": "stream",
     "text": [
      "Mean squared error:4205.126000000001\n",
      "Pearson correlation coefficient:nan\n",
      "Coefficient of determination\n",
      "0.0\n"
     ]
    },
    {
     "data": {
      "image/png": "[encoded data removed]",
      "text/plain": [
       "<Figure size 432x288 with 1 Axes>"
      ]
     },
     "metadata": {
      "needs_background": "light"
     },
     "output_type": "display_data"
    }
   ],
   "source": [
    "# Analyze direction \n",
    "plt.plot(merged_5min_df['course_dir'], label='at course', c='darkblue')\n",
    "plt.plot(merged_5min_df['PWS_dir'], label='KCAALBAN12', c='orange')\n",
    "plt.legend(loc='best')\n",
    "dif = np.subtract(merged_5min_df['course_dir'].values, merged_5min_df['PWS_dir'].values)\n",
    "mse = np.sum(np.square(dif)) / len(merged_5min_df)\n",
    "print('Mean squared error', end=':')\n",
    "print(mse)\n",
    "print('Pearson correlation coefficient', end=':')\n",
    "print(merged_5min_df['course_dir'].corr(merged_5min_df['PWS_dir']))\n",
    "print('Coefficient of determination')\n",
    "print(r2_score(merged_5min_df['course_dir'].values, merged_5min_df['PWS_dir'].values))"
   ]
  },
  {
   "cell_type": "code",
   "execution_count": 157,
   "metadata": {},
   "outputs": [
    {
     "data": {
      "text/html": [
       "<div>\n",
       "<style scoped>\n",
       "    .dataframe tbody tr th:only-of-type {\n",
       "        vertical-align: middle;\n",
       "    }\n",
       "\n",
       "    .dataframe tbody tr th {\n",
       "        vertical-align: top;\n",
       "    }\n",
       "\n",
       "    .dataframe thead th {\n",
       "        text-align: right;\n",
       "    }\n",
       "</style>\n",
       "<table border=\"1\" class=\"dataframe\">\n",
       "  <thead>\n",
       "    <tr style=\"text-align: right;\">\n",
       "      <th></th>\n",
       "      <th>course_spd</th>\n",
       "      <th>course_gust</th>\n",
       "      <th>course_dir</th>\n",
       "      <th>PWS_dir</th>\n",
       "      <th>PWS_spd</th>\n",
       "      <th>PWS_gust</th>\n",
       "    </tr>\n",
       "    <tr>\n",
       "      <th>dt</th>\n",
       "      <th></th>\n",
       "      <th></th>\n",
       "      <th></th>\n",
       "      <th></th>\n",
       "      <th></th>\n",
       "      <th></th>\n",
       "    </tr>\n",
       "  </thead>\n",
       "  <tbody>\n",
       "    <tr>\n",
       "      <th>2019-07-24 14:00:00</th>\n",
       "      <td>6.75</td>\n",
       "      <td>11.768681</td>\n",
       "      <td>270</td>\n",
       "      <td>289.0</td>\n",
       "      <td>4.4</td>\n",
       "      <td>5.8</td>\n",
       "    </tr>\n",
       "    <tr>\n",
       "      <th>2019-07-24 14:05:00</th>\n",
       "      <td>5.82</td>\n",
       "      <td>8.683371</td>\n",
       "      <td>270</td>\n",
       "      <td>278.0</td>\n",
       "      <td>4.7</td>\n",
       "      <td>6.7</td>\n",
       "    </tr>\n",
       "    <tr>\n",
       "      <th>2019-07-24 14:10:00</th>\n",
       "      <td>6.34</td>\n",
       "      <td>9.405675</td>\n",
       "      <td>270</td>\n",
       "      <td>282.0</td>\n",
       "      <td>5.7</td>\n",
       "      <td>7.6</td>\n",
       "    </tr>\n",
       "    <tr>\n",
       "      <th>2019-07-24 14:15:00</th>\n",
       "      <td>4.48</td>\n",
       "      <td>7.203315</td>\n",
       "      <td>270</td>\n",
       "      <td>284.0</td>\n",
       "      <td>4.7</td>\n",
       "      <td>6.5</td>\n",
       "    </tr>\n",
       "    <tr>\n",
       "      <th>2019-07-24 14:20:00</th>\n",
       "      <td>5.94</td>\n",
       "      <td>9.674832</td>\n",
       "      <td>270</td>\n",
       "      <td>272.0</td>\n",
       "      <td>4.3</td>\n",
       "      <td>5.8</td>\n",
       "    </tr>\n",
       "  </tbody>\n",
       "</table>\n",
       "</div>"
      ],
      "text/plain": [
       "                     course_spd  course_gust  course_dir  PWS_dir  PWS_spd  \\\n",
       "dt                                                                           \n",
       "2019-07-24 14:00:00        6.75    11.768681         270    289.0      4.4   \n",
       "2019-07-24 14:05:00        5.82     8.683371         270    278.0      4.7   \n",
       "2019-07-24 14:10:00        6.34     9.405675         270    282.0      5.7   \n",
       "2019-07-24 14:15:00        4.48     7.203315         270    284.0      4.7   \n",
       "2019-07-24 14:20:00        5.94     9.674832         270    272.0      4.3   \n",
       "\n",
       "                     PWS_gust  \n",
       "dt                             \n",
       "2019-07-24 14:00:00       5.8  \n",
       "2019-07-24 14:05:00       6.7  \n",
       "2019-07-24 14:10:00       7.6  \n",
       "2019-07-24 14:15:00       6.5  \n",
       "2019-07-24 14:20:00       5.8  "
      ]
     },
     "execution_count": 157,
     "metadata": {},
     "output_type": "execute_result"
    }
   ],
   "source": [
    "# Next station, KCABERKE104\n",
    "# This weather station is from the same manufacturer as KCAALBAN12, so we can use the same derived data\n",
    "# from the course measurements, and just merge and re-sample with a different PWS source (wx_data_list[2])\n",
    "# Merge and resample at 5-min intervals -- use forward PWS reporting as explained earlier\n",
    "merged_wx_df = pd.merge_asof(course_wx_df, wx_data_list[2], left_index=True, right_index=True, direction='forward')\n",
    "# Now do the resampling via simple mean\n",
    "merged_5min_df = merged_wx_df.resample('5T').mean()\n",
    "# Clean up\n",
    "merged_5min_df = merged_5min_df.drop(columns = ['Current','Min','Max','T','rh','precip'])\n",
    "merged_5min_df.columns = ['course_spd','course_gust','course_dir','PWS_dir','PWS_spd','PWS_gust']\n",
    "merged_5min_df.head()"
   ]
  },
  {
   "cell_type": "code",
   "execution_count": 158,
   "metadata": {},
   "outputs": [
    {
     "name": "stdout",
     "output_type": "stream",
     "text": [
      "Mean squared error:2.5789528571428573\n",
      "Pearson correlation coefficient:0.29806601624381984\n",
      "Coefficient of determination\n",
      "-0.27342619085024134\n"
     ]
    },
    {
     "data": {
      "image/png": "[encoded data removed]",
      "text/plain": [
       "<Figure size 432x288 with 1 Axes>"
      ]
     },
     "metadata": {
      "needs_background": "light"
     },
     "output_type": "display_data"
    }
   ],
   "source": [
    "# Analyze speeds \n",
    "plt.plot(merged_5min_df['course_spd'], label='at course', c='darkblue')\n",
    "plt.plot(merged_5min_df['PWS_spd'], label='KCABERKE104', c='orange')\n",
    "plt.legend(loc='best')\n",
    "dif = np.subtract(merged_5min_df['course_spd'].values, merged_5min_df['PWS_spd'].values)\n",
    "mse = np.sum(np.square(dif)) / len(merged_5min_df)\n",
    "print('Mean squared error', end=':')\n",
    "print(mse)\n",
    "print('Pearson correlation coefficient', end=':')\n",
    "print(merged_5min_df['course_spd'].corr(merged_5min_df['PWS_spd']))\n",
    "print('Coefficient of determination')\n",
    "print(r2_score(merged_5min_df['course_spd'].values, merged_5min_df['PWS_spd'].values))"
   ]
  },
  {
   "cell_type": "code",
   "execution_count": 159,
   "metadata": {},
   "outputs": [
    {
     "name": "stdout",
     "output_type": "stream",
     "text": [
      "Mean squared error:4.544257594599408\n",
      "Pearson correlation coefficient:0.2626597412576672\n",
      "Coefficient of determination\n",
      "-0.025207841954928423\n"
     ]
    },
    {
     "data": {
      "image/png": "[encoded data removed]",
      "text/plain": [
       "<Figure size 432x288 with 1 Axes>"
      ]
     },
     "metadata": {
      "needs_background": "light"
     },
     "output_type": "display_data"
    }
   ],
   "source": [
    "# Analyze gusts \n",
    "plt.plot(merged_5min_df['course_gust'], label='at course', c='darkblue')\n",
    "plt.plot(merged_5min_df['PWS_gust'], label='KCABERKE104', c='orange')\n",
    "plt.legend(loc='best')\n",
    "dif = np.subtract(merged_5min_df['course_gust'].values, merged_5min_df['PWS_gust'].values)\n",
    "mse = np.sum(np.square(dif)) / len(merged_5min_df)\n",
    "print('Mean squared error', end=':')\n",
    "print(mse)\n",
    "print('Pearson correlation coefficient', end=':')\n",
    "print(merged_5min_df['course_gust'].corr(merged_5min_df['PWS_gust']))\n",
    "print('Coefficient of determination')\n",
    "print(r2_score(merged_5min_df['course_gust'].values, merged_5min_df['PWS_gust'].values))"
   ]
  },
  {
   "cell_type": "code",
   "execution_count": 160,
   "metadata": {},
   "outputs": [
    {
     "name": "stdout",
     "output_type": "stream",
     "text": [
      "Mean squared error:491.7142857142857\n",
      "Pearson correlation coefficient:nan\n",
      "Coefficient of determination\n",
      "0.0\n"
     ]
    },
    {
     "data": {
      "image/png": "[encoded data removed]",
      "text/plain": [
       "<Figure size 432x288 with 1 Axes>"
      ]
     },
     "metadata": {
      "needs_background": "light"
     },
     "output_type": "display_data"
    }
   ],
   "source": [
    "# Analyze direction \n",
    "plt.plot(merged_5min_df['course_dir'], label='at course', c='darkblue')\n",
    "plt.plot(merged_5min_df['PWS_dir'], label='KCABERKE104', c='orange')\n",
    "plt.legend(loc='best')\n",
    "dif = np.subtract(merged_5min_df['course_dir'].values, merged_5min_df['PWS_dir'].values)\n",
    "mse = np.sum(np.square(dif)) / len(merged_5min_df)\n",
    "print('Mean squared error', end=':')\n",
    "print(mse)\n",
    "print('Pearson correlation coefficient', end=':')\n",
    "print(merged_5min_df['course_dir'].corr(merged_5min_df['PWS_dir']))\n",
    "print('Coefficient of determination')\n",
    "print(r2_score(merged_5min_df['course_dir'].values, merged_5min_df['PWS_dir'].values))"
   ]
  },
  {
   "cell_type": "code",
   "execution_count": 164,
   "metadata": {
    "scrolled": true
   },
   "outputs": [
    {
     "data": {
      "text/html": [
       "<div>\n",
       "<style scoped>\n",
       "    .dataframe tbody tr th:only-of-type {\n",
       "        vertical-align: middle;\n",
       "    }\n",
       "\n",
       "    .dataframe tbody tr th {\n",
       "        vertical-align: top;\n",
       "    }\n",
       "\n",
       "    .dataframe thead th {\n",
       "        text-align: right;\n",
       "    }\n",
       "</style>\n",
       "<table border=\"1\" class=\"dataframe\">\n",
       "  <thead>\n",
       "    <tr style=\"text-align: right;\">\n",
       "      <th></th>\n",
       "      <th>course_gust</th>\n",
       "      <th>course_spd</th>\n",
       "      <th>course_dir</th>\n",
       "      <th>PWS_dir</th>\n",
       "      <th>PWS_spd</th>\n",
       "      <th>PWS_gust</th>\n",
       "    </tr>\n",
       "    <tr>\n",
       "      <th>dt</th>\n",
       "      <th></th>\n",
       "      <th></th>\n",
       "      <th></th>\n",
       "      <th></th>\n",
       "      <th></th>\n",
       "      <th></th>\n",
       "    </tr>\n",
       "  </thead>\n",
       "  <tbody>\n",
       "    <tr>\n",
       "      <th>2019-07-24 14:00:00</th>\n",
       "      <td>15.0</td>\n",
       "      <td>6.75</td>\n",
       "      <td>270</td>\n",
       "      <td>248.0</td>\n",
       "      <td>3.0</td>\n",
       "      <td>9.0</td>\n",
       "    </tr>\n",
       "    <tr>\n",
       "      <th>2019-07-24 14:05:00</th>\n",
       "      <td>11.7</td>\n",
       "      <td>5.82</td>\n",
       "      <td>270</td>\n",
       "      <td>270.0</td>\n",
       "      <td>3.0</td>\n",
       "      <td>10.0</td>\n",
       "    </tr>\n",
       "    <tr>\n",
       "      <th>2019-07-24 14:10:00</th>\n",
       "      <td>12.3</td>\n",
       "      <td>6.34</td>\n",
       "      <td>270</td>\n",
       "      <td>248.0</td>\n",
       "      <td>3.0</td>\n",
       "      <td>9.0</td>\n",
       "    </tr>\n",
       "    <tr>\n",
       "      <th>2019-07-24 14:15:00</th>\n",
       "      <td>11.2</td>\n",
       "      <td>4.48</td>\n",
       "      <td>270</td>\n",
       "      <td>292.0</td>\n",
       "      <td>1.0</td>\n",
       "      <td>7.0</td>\n",
       "    </tr>\n",
       "    <tr>\n",
       "      <th>2019-07-24 14:20:00</th>\n",
       "      <td>13.9</td>\n",
       "      <td>5.94</td>\n",
       "      <td>270</td>\n",
       "      <td>270.0</td>\n",
       "      <td>2.0</td>\n",
       "      <td>9.0</td>\n",
       "    </tr>\n",
       "  </tbody>\n",
       "</table>\n",
       "</div>"
      ],
      "text/plain": [
       "                     course_gust  course_spd  course_dir  PWS_dir  PWS_spd  \\\n",
       "dt                                                                           \n",
       "2019-07-24 14:00:00         15.0        6.75         270    248.0      3.0   \n",
       "2019-07-24 14:05:00         11.7        5.82         270    270.0      3.0   \n",
       "2019-07-24 14:10:00         12.3        6.34         270    248.0      3.0   \n",
       "2019-07-24 14:15:00         11.2        4.48         270    292.0      1.0   \n",
       "2019-07-24 14:20:00         13.9        5.94         270    270.0      2.0   \n",
       "\n",
       "                     PWS_gust  \n",
       "dt                             \n",
       "2019-07-24 14:00:00       9.0  \n",
       "2019-07-24 14:05:00      10.0  \n",
       "2019-07-24 14:10:00       9.0  \n",
       "2019-07-24 14:15:00       7.0  \n",
       "2019-07-24 14:20:00       9.0  "
      ]
     },
     "execution_count": 164,
     "metadata": {},
     "output_type": "execute_result"
    }
   ],
   "source": [
    "# For the last station, we need to deal with a 2.5s measuring interval and a 5-minute reporting period.\n",
    "# Although the course anemometer is somewhat faster, because of inertia the 'max' is likely to be quite similar\n",
    "# across 1s and 2.5s intervals, so we just need to merge and re-sample, with 'max' as max rather than mean, but\n",
    "# we do not need to do any new computation on the course data\n",
    "merged_wx_df = pd.merge_asof(course_wx_df, wx_data_list[3], left_index=True, right_index=True, direction='forward')\n",
    "merged_wx_df = merged_wx_df.drop(columns = ['Current','Min','gust_16','T','rh','precip'])\n",
    "# Now do the resampling via simple mean\n",
    "merged_5min_df = merged_wx_df.resample('5T').agg({'Max':'max','Ave':'mean','Dir':'mean','w_dir':'mean',\n",
    "                                                 'w_spd':'mean','w_gust':'max'})\n",
    "# Clean up\n",
    "merged_5min_df.columns = ['course_gust','course_spd','course_dir','PWS_dir','PWS_spd','PWS_gust']\n",
    "merged_5min_df.head()"
   ]
  },
  {
   "cell_type": "code",
   "execution_count": 165,
   "metadata": {},
   "outputs": [
    {
     "name": "stdout",
     "output_type": "stream",
     "text": [
      "Mean squared error:3.528638571428571\n",
      "Pearson correlation coefficient:0.3007108088303654\n",
      "Coefficient of determination\n",
      "-0.7423586330615171\n"
     ]
    },
    {
     "data": {
      "image/png": "[encoded data removed]",
      "text/plain": [
       "<Figure size 432x288 with 1 Axes>"
      ]
     },
     "metadata": {
      "needs_background": "light"
     },
     "output_type": "display_data"
    }
   ],
   "source": [
    "# Analyze speeds \n",
    "plt.plot(merged_5min_df['course_spd'], label='at course', c='darkblue')\n",
    "plt.plot(merged_5min_df['PWS_spd'], label='KCABERKE28', c='orange')\n",
    "plt.legend(loc='best')\n",
    "dif = np.subtract(merged_5min_df['course_spd'].values, merged_5min_df['PWS_spd'].values)\n",
    "mse = np.sum(np.square(dif)) / len(merged_5min_df)\n",
    "print('Mean squared error', end=':')\n",
    "print(mse)\n",
    "print('Pearson correlation coefficient', end=':')\n",
    "print(merged_5min_df['course_spd'].corr(merged_5min_df['PWS_spd']))\n",
    "print('Coefficient of determination')\n",
    "print(r2_score(merged_5min_df['course_spd'].values, merged_5min_df['PWS_spd'].values))"
   ]
  },
  {
   "cell_type": "code",
   "execution_count": 166,
   "metadata": {},
   "outputs": [
    {
     "name": "stdout",
     "output_type": "stream",
     "text": [
      "Mean squared error:8.055428571428571\n",
      "Pearson correlation coefficient:0.37521197960603725\n",
      "Coefficient of determination\n",
      "0.05161029899374314\n"
     ]
    },
    {
     "data": {
      "image/png": "[encoded data removed]",
      "text/plain": [
       "<Figure size 432x288 with 1 Axes>"
      ]
     },
     "metadata": {
      "needs_background": "light"
     },
     "output_type": "display_data"
    }
   ],
   "source": [
    "# Analyze gusts \n",
    "plt.plot(merged_5min_df['course_gust'], label='at course', c='darkblue')\n",
    "plt.plot(merged_5min_df['PWS_gust'], label='KCABERKE28', c='orange')\n",
    "plt.legend(loc='best')\n",
    "dif = np.subtract(merged_5min_df['course_gust'].values, merged_5min_df['PWS_gust'].values)\n",
    "mse = np.sum(np.square(dif)) / len(merged_5min_df)\n",
    "print('Mean squared error', end=':')\n",
    "print(mse)\n",
    "print('Pearson correlation coefficient', end=':')\n",
    "print(merged_5min_df['course_gust'].corr(merged_5min_df['PWS_gust']))\n",
    "print('Coefficient of determination')\n",
    "print(r2_score(merged_5min_df['course_gust'].values, merged_5min_df['PWS_gust'].values))"
   ]
  },
  {
   "cell_type": "code",
   "execution_count": 167,
   "metadata": {},
   "outputs": [
    {
     "name": "stdout",
     "output_type": "stream",
     "text": [
      "Mean squared error:794.7428571428571\n",
      "Pearson correlation coefficient:nan\n",
      "Coefficient of determination\n",
      "0.0\n"
     ]
    },
    {
     "data": {
      "image/png": "[encoded data removed]",
      "text/plain": [
       "<Figure size 432x288 with 1 Axes>"
      ]
     },
     "metadata": {
      "needs_background": "light"
     },
     "output_type": "display_data"
    }
   ],
   "source": [
    "# Analyze direction \n",
    "plt.plot(merged_5min_df['course_dir'], label='at course', c='darkblue')\n",
    "plt.plot(merged_5min_df['PWS_dir'], label='KCABERKE28', c='orange')\n",
    "plt.legend(loc='best')\n",
    "dif = np.subtract(merged_5min_df['course_dir'].values, merged_5min_df['PWS_dir'].values)\n",
    "mse = np.sum(np.square(dif)) / len(merged_5min_df)\n",
    "print('Mean squared error', end=':')\n",
    "print(mse)\n",
    "print('Pearson correlation coefficient', end=':')\n",
    "print(merged_5min_df['course_dir'].corr(merged_5min_df['PWS_dir']))\n",
    "print('Coefficient of determination')\n",
    "print(r2_score(merged_5min_df['course_dir'].values, merged_5min_df['PWS_dir'].values))"
   ]
  },
  {
   "cell_type": "code",
   "execution_count": null,
   "metadata": {},
   "outputs": [],
   "source": []
  }
 ],
 "metadata": {
  "kernelspec": {
   "display_name": "Python 3",
   "language": "python",
   "name": "python3"
  },
  "language_info": {
   "codemirror_mode": {
    "name": "ipython",
    "version": 3
   },
   "file_extension": ".py",
   "mimetype": "text/x-python",
   "name": "python",
   "nbconvert_exporter": "python",
   "pygments_lexer": "ipython3",
   "version": "3.7.3"
  }
 },
 "nbformat": 4,
 "nbformat_minor": 2
}
