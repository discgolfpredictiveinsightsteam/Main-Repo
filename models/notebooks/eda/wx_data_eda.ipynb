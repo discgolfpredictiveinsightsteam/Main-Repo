{
 "cells": [
  {
   "cell_type": "markdown",
   "metadata": {},
   "source": [
    "## Weather Data EDA\n",
    "\n",
    "### Objective\n",
    "\n",
    "* Qualitative look at the personal weather station data used to build weather models\n",
    "\n",
    "### Rationale\n",
    "\n",
    "* Why This?  A sense of how consistent station-to-station data is, how quicly it varies over time, and what signal and noise characteristics are import will help to reduce it properly.  Ideally, we'd like a few parameters that capture the important features and that are robust to station drop-out.  \n",
    "\n",
    "* Why Me?  Since I will be building the weather - performance model, I am best suited to do the EDA.\n",
    "\n",
    "* Why Now?  having some answers before we invest a lot of time in building the model will avoid re-work"
   ]
  },
  {
   "cell_type": "markdown",
   "metadata": {},
   "source": [
    "### Requirements\n",
    "\n",
    "* Pandas 0.24.2\n",
    "* Matplotlib 3.1.0"
   ]
  },
  {
   "cell_type": "markdown",
   "metadata": {},
   "source": [
    "### Input\n",
    "\n",
    "* The notebook should be in the folder `'models/notebooks/eda` with the data in `models/wx_record/wx_station_by_date`\n",
    "\n",
    "* Input files have the form `{station-id}_{mmddyy}_p01.csv` where `station-id` is a personal weather station id, e.g. KCASANFR1086, and the date is something like 033119"
   ]
  },
  {
   "cell_type": "code",
   "execution_count": 1,
   "metadata": {},
   "outputs": [],
   "source": [
    "import pandas as pd\n",
    "import glob\n",
    "import matplotlib.pyplot as plt\n",
    "%matplotlib inline"
   ]
  },
  {
   "cell_type": "code",
   "execution_count": 25,
   "metadata": {},
   "outputs": [
    {
     "data": {
      "text/html": [
       "<div>\n",
       "<style scoped>\n",
       "    .dataframe tbody tr th:only-of-type {\n",
       "        vertical-align: middle;\n",
       "    }\n",
       "\n",
       "    .dataframe tbody tr th {\n",
       "        vertical-align: top;\n",
       "    }\n",
       "\n",
       "    .dataframe thead th {\n",
       "        text-align: right;\n",
       "    }\n",
       "</style>\n",
       "<table border=\"1\" class=\"dataframe\">\n",
       "  <thead>\n",
       "    <tr style=\"text-align: right;\">\n",
       "      <th></th>\n",
       "      <th>Unnamed: 0</th>\n",
       "      <th>time</th>\n",
       "      <th>T</th>\n",
       "      <th>w_dir</th>\n",
       "      <th>w_spd</th>\n",
       "      <th>w_gust</th>\n",
       "      <th>rh</th>\n",
       "      <th>precip</th>\n",
       "      <th>station_id</th>\n",
       "    </tr>\n",
       "  </thead>\n",
       "  <tbody>\n",
       "    <tr>\n",
       "      <th>0</th>\n",
       "      <td>0</td>\n",
       "      <td>2019-01-06 00:04:59</td>\n",
       "      <td>50.0</td>\n",
       "      <td>73.0</td>\n",
       "      <td>0.0</td>\n",
       "      <td>0.0</td>\n",
       "      <td>88.0</td>\n",
       "      <td>0.0</td>\n",
       "      <td>KCASANFR1086</td>\n",
       "    </tr>\n",
       "    <tr>\n",
       "      <th>1</th>\n",
       "      <td>1</td>\n",
       "      <td>2019-01-06 00:09:49</td>\n",
       "      <td>49.0</td>\n",
       "      <td>132.0</td>\n",
       "      <td>0.0</td>\n",
       "      <td>0.0</td>\n",
       "      <td>88.0</td>\n",
       "      <td>0.0</td>\n",
       "      <td>KCASANFR1086</td>\n",
       "    </tr>\n",
       "    <tr>\n",
       "      <th>2</th>\n",
       "      <td>2</td>\n",
       "      <td>2019-01-06 00:14:52</td>\n",
       "      <td>49.0</td>\n",
       "      <td>237.0</td>\n",
       "      <td>0.0</td>\n",
       "      <td>0.0</td>\n",
       "      <td>88.0</td>\n",
       "      <td>0.0</td>\n",
       "      <td>KCASANFR1086</td>\n",
       "    </tr>\n",
       "    <tr>\n",
       "      <th>3</th>\n",
       "      <td>3</td>\n",
       "      <td>2019-01-06 00:19:40</td>\n",
       "      <td>49.0</td>\n",
       "      <td>233.0</td>\n",
       "      <td>0.0</td>\n",
       "      <td>0.0</td>\n",
       "      <td>87.0</td>\n",
       "      <td>0.0</td>\n",
       "      <td>KCASANFR1086</td>\n",
       "    </tr>\n",
       "    <tr>\n",
       "      <th>4</th>\n",
       "      <td>4</td>\n",
       "      <td>2019-01-06 00:24:45</td>\n",
       "      <td>49.0</td>\n",
       "      <td>207.0</td>\n",
       "      <td>0.0</td>\n",
       "      <td>0.0</td>\n",
       "      <td>87.0</td>\n",
       "      <td>0.0</td>\n",
       "      <td>KCASANFR1086</td>\n",
       "    </tr>\n",
       "  </tbody>\n",
       "</table>\n",
       "</div>"
      ],
      "text/plain": [
       "   Unnamed: 0                time     T  w_dir  w_spd  w_gust    rh  precip  \\\n",
       "0           0 2019-01-06 00:04:59  50.0   73.0    0.0     0.0  88.0     0.0   \n",
       "1           1 2019-01-06 00:09:49  49.0  132.0    0.0     0.0  88.0     0.0   \n",
       "2           2 2019-01-06 00:14:52  49.0  237.0    0.0     0.0  88.0     0.0   \n",
       "3           3 2019-01-06 00:19:40  49.0  233.0    0.0     0.0  87.0     0.0   \n",
       "4           4 2019-01-06 00:24:45  49.0  207.0    0.0     0.0  87.0     0.0   \n",
       "\n",
       "     station_id  \n",
       "0  KCASANFR1086  \n",
       "1  KCASANFR1086  \n",
       "2  KCASANFR1086  \n",
       "3  KCASANFR1086  \n",
       "4  KCASANFR1086  "
      ]
     },
     "execution_count": 25,
     "metadata": {},
     "output_type": "execute_result"
    }
   ],
   "source": [
    "# Make one big dataFrame, with a station_id added from filename\n",
    "wx_df = pd.DataFrame()\n",
    "filenames = glob.glob('../../wx_record/wx_station_by_date/*.csv')\n",
    "for filename in filenames:\n",
    "    station_id = filename.split('_')[-3].split('\\\\')[-1]\n",
    "    df_temp = pd.read_csv(filename, parse_dates=['time'])\n",
    "    df_temp['station_id'] = station_id\n",
    "    wx_df = wx_df.append(df_temp)\n",
    "wx_df.head()"
   ]
  },
  {
   "cell_type": "code",
   "execution_count": 38,
   "metadata": {},
   "outputs": [
    {
     "data": {
      "text/html": [
       "<div>\n",
       "<style scoped>\n",
       "    .dataframe tbody tr th:only-of-type {\n",
       "        vertical-align: middle;\n",
       "    }\n",
       "\n",
       "    .dataframe tbody tr th {\n",
       "        vertical-align: top;\n",
       "    }\n",
       "\n",
       "    .dataframe thead th {\n",
       "        text-align: right;\n",
       "    }\n",
       "</style>\n",
       "<table border=\"1\" class=\"dataframe\">\n",
       "  <thead>\n",
       "    <tr style=\"text-align: right;\">\n",
       "      <th></th>\n",
       "      <th>Unnamed: 0</th>\n",
       "      <th>time</th>\n",
       "      <th>T</th>\n",
       "      <th>w_dir</th>\n",
       "      <th>w_spd</th>\n",
       "      <th>w_gust</th>\n",
       "      <th>rh</th>\n",
       "      <th>precip</th>\n",
       "      <th>station_id</th>\n",
       "      <th>time_of_day</th>\n",
       "      <th>station_cat</th>\n",
       "      <th>seconds</th>\n",
       "      <th>minute_of_day</th>\n",
       "    </tr>\n",
       "  </thead>\n",
       "  <tbody>\n",
       "    <tr>\n",
       "      <th>0</th>\n",
       "      <td>0</td>\n",
       "      <td>2019-01-06 00:04:59</td>\n",
       "      <td>50.0</td>\n",
       "      <td>73.0</td>\n",
       "      <td>0.0</td>\n",
       "      <td>0.0</td>\n",
       "      <td>88.0</td>\n",
       "      <td>0.0</td>\n",
       "      <td>KCASANFR1086</td>\n",
       "      <td>00:04:59</td>\n",
       "      <td>0</td>\n",
       "      <td>59</td>\n",
       "      <td>4</td>\n",
       "    </tr>\n",
       "    <tr>\n",
       "      <th>1</th>\n",
       "      <td>1</td>\n",
       "      <td>2019-01-06 00:09:49</td>\n",
       "      <td>49.0</td>\n",
       "      <td>132.0</td>\n",
       "      <td>0.0</td>\n",
       "      <td>0.0</td>\n",
       "      <td>88.0</td>\n",
       "      <td>0.0</td>\n",
       "      <td>KCASANFR1086</td>\n",
       "      <td>00:09:49</td>\n",
       "      <td>0</td>\n",
       "      <td>49</td>\n",
       "      <td>9</td>\n",
       "    </tr>\n",
       "    <tr>\n",
       "      <th>2</th>\n",
       "      <td>2</td>\n",
       "      <td>2019-01-06 00:14:52</td>\n",
       "      <td>49.0</td>\n",
       "      <td>237.0</td>\n",
       "      <td>0.0</td>\n",
       "      <td>0.0</td>\n",
       "      <td>88.0</td>\n",
       "      <td>0.0</td>\n",
       "      <td>KCASANFR1086</td>\n",
       "      <td>00:14:52</td>\n",
       "      <td>0</td>\n",
       "      <td>52</td>\n",
       "      <td>14</td>\n",
       "    </tr>\n",
       "    <tr>\n",
       "      <th>3</th>\n",
       "      <td>3</td>\n",
       "      <td>2019-01-06 00:19:40</td>\n",
       "      <td>49.0</td>\n",
       "      <td>233.0</td>\n",
       "      <td>0.0</td>\n",
       "      <td>0.0</td>\n",
       "      <td>87.0</td>\n",
       "      <td>0.0</td>\n",
       "      <td>KCASANFR1086</td>\n",
       "      <td>00:19:40</td>\n",
       "      <td>0</td>\n",
       "      <td>40</td>\n",
       "      <td>19</td>\n",
       "    </tr>\n",
       "    <tr>\n",
       "      <th>4</th>\n",
       "      <td>4</td>\n",
       "      <td>2019-01-06 00:24:45</td>\n",
       "      <td>49.0</td>\n",
       "      <td>207.0</td>\n",
       "      <td>0.0</td>\n",
       "      <td>0.0</td>\n",
       "      <td>87.0</td>\n",
       "      <td>0.0</td>\n",
       "      <td>KCASANFR1086</td>\n",
       "      <td>00:24:45</td>\n",
       "      <td>0</td>\n",
       "      <td>45</td>\n",
       "      <td>24</td>\n",
       "    </tr>\n",
       "  </tbody>\n",
       "</table>\n",
       "</div>"
      ],
      "text/plain": [
       "   Unnamed: 0                time     T  w_dir  w_spd  w_gust    rh  precip  \\\n",
       "0           0 2019-01-06 00:04:59  50.0   73.0    0.0     0.0  88.0     0.0   \n",
       "1           1 2019-01-06 00:09:49  49.0  132.0    0.0     0.0  88.0     0.0   \n",
       "2           2 2019-01-06 00:14:52  49.0  237.0    0.0     0.0  88.0     0.0   \n",
       "3           3 2019-01-06 00:19:40  49.0  233.0    0.0     0.0  87.0     0.0   \n",
       "4           4 2019-01-06 00:24:45  49.0  207.0    0.0     0.0  87.0     0.0   \n",
       "\n",
       "     station_id time_of_day  station_cat  seconds  minute_of_day  \n",
       "0  KCASANFR1086    00:04:59            0       59              4  \n",
       "1  KCASANFR1086    00:09:49            0       49              9  \n",
       "2  KCASANFR1086    00:14:52            0       52             14  \n",
       "3  KCASANFR1086    00:19:40            0       40             19  \n",
       "4  KCASANFR1086    00:24:45            0       45             24  "
      ]
     },
     "execution_count": 38,
     "metadata": {},
     "output_type": "execute_result"
    }
   ],
   "source": [
    "wx_df['time_of_day'] = wx_df.time.dt.time\n",
    "wx_df['minute_of_day'] = wx_df['time'].dt.minute + wx_df['time'].dt.hour * 60\n",
    "wx_df.head()"
   ]
  },
  {
   "cell_type": "code",
   "execution_count": 43,
   "metadata": {},
   "outputs": [
    {
     "data": {
      "text/plain": [
       "<matplotlib.axes._subplots.AxesSubplot at 0x15823015080>"
      ]
     },
     "execution_count": 43,
     "metadata": {},
     "output_type": "execute_result"
    },
    {
     "data": {
      "image/png": "[encoded data removed]",
      "text/plain": [
       "<Figure size 432x288 with 1 Axes>"
      ]
     },
     "metadata": {
      "needs_background": "light"
     },
     "output_type": "display_data"
    }
   ],
   "source": [
    "colorize = {0:'purple',1:'yellow',2:'blue',3:'green',4:'orange'}\n",
    "color_data = [colorize[x] for x in wx_df['station_cat'].values]\n",
    "wx_df.plot(kind = 'scatter', x = 'minute_of_day', y = 'T', c = color_data, marker = '.')"
   ]
  },
  {
   "cell_type": "code",
   "execution_count": 44,
   "metadata": {},
   "outputs": [
    {
     "data": {
      "text/html": [
       "<div>\n",
       "<style scoped>\n",
       "    .dataframe tbody tr th:only-of-type {\n",
       "        vertical-align: middle;\n",
       "    }\n",
       "\n",
       "    .dataframe tbody tr th {\n",
       "        vertical-align: top;\n",
       "    }\n",
       "\n",
       "    .dataframe thead th {\n",
       "        text-align: right;\n",
       "    }\n",
       "</style>\n",
       "<table border=\"1\" class=\"dataframe\">\n",
       "  <thead>\n",
       "    <tr style=\"text-align: right;\">\n",
       "      <th></th>\n",
       "      <th>Unnamed: 0</th>\n",
       "      <th>T</th>\n",
       "      <th>w_dir</th>\n",
       "      <th>w_spd</th>\n",
       "      <th>w_gust</th>\n",
       "      <th>rh</th>\n",
       "      <th>precip</th>\n",
       "      <th>station_cat</th>\n",
       "      <th>seconds</th>\n",
       "      <th>minute_of_day</th>\n",
       "    </tr>\n",
       "    <tr>\n",
       "      <th>time</th>\n",
       "      <th></th>\n",
       "      <th></th>\n",
       "      <th></th>\n",
       "      <th></th>\n",
       "      <th></th>\n",
       "      <th></th>\n",
       "      <th></th>\n",
       "      <th></th>\n",
       "      <th></th>\n",
       "      <th></th>\n",
       "    </tr>\n",
       "  </thead>\n",
       "  <tbody>\n",
       "    <tr>\n",
       "      <th>2018-11-04 01:00:00</th>\n",
       "      <td>3.0</td>\n",
       "      <td>55.666667</td>\n",
       "      <td>240.0</td>\n",
       "      <td>0.00</td>\n",
       "      <td>5.00</td>\n",
       "      <td>93.666667</td>\n",
       "      <td>0.0</td>\n",
       "      <td>1.0</td>\n",
       "      <td>2.0</td>\n",
       "      <td>67.00</td>\n",
       "    </tr>\n",
       "    <tr>\n",
       "      <th>2018-11-04 01:15:00</th>\n",
       "      <td>2.5</td>\n",
       "      <td>56.000000</td>\n",
       "      <td>220.5</td>\n",
       "      <td>0.50</td>\n",
       "      <td>4.50</td>\n",
       "      <td>94.000000</td>\n",
       "      <td>0.0</td>\n",
       "      <td>1.0</td>\n",
       "      <td>2.0</td>\n",
       "      <td>79.50</td>\n",
       "    </tr>\n",
       "    <tr>\n",
       "      <th>2018-11-04 01:30:00</th>\n",
       "      <td>7.8</td>\n",
       "      <td>55.400000</td>\n",
       "      <td>242.0</td>\n",
       "      <td>1.20</td>\n",
       "      <td>5.80</td>\n",
       "      <td>93.800000</td>\n",
       "      <td>0.0</td>\n",
       "      <td>1.0</td>\n",
       "      <td>2.0</td>\n",
       "      <td>97.00</td>\n",
       "    </tr>\n",
       "    <tr>\n",
       "      <th>2018-11-04 01:45:00</th>\n",
       "      <td>9.5</td>\n",
       "      <td>55.500000</td>\n",
       "      <td>246.5</td>\n",
       "      <td>1.75</td>\n",
       "      <td>5.75</td>\n",
       "      <td>93.500000</td>\n",
       "      <td>0.0</td>\n",
       "      <td>1.0</td>\n",
       "      <td>2.0</td>\n",
       "      <td>110.75</td>\n",
       "    </tr>\n",
       "    <tr>\n",
       "      <th>2018-11-04 02:00:00</th>\n",
       "      <td>14.0</td>\n",
       "      <td>55.000000</td>\n",
       "      <td>253.0</td>\n",
       "      <td>3.00</td>\n",
       "      <td>10.00</td>\n",
       "      <td>94.000000</td>\n",
       "      <td>0.0</td>\n",
       "      <td>1.0</td>\n",
       "      <td>2.0</td>\n",
       "      <td>122.00</td>\n",
       "    </tr>\n",
       "  </tbody>\n",
       "</table>\n",
       "</div>"
      ],
      "text/plain": [
       "                     Unnamed: 0          T  w_dir  w_spd  w_gust         rh  \\\n",
       "time                                                                          \n",
       "2018-11-04 01:00:00         3.0  55.666667  240.0   0.00    5.00  93.666667   \n",
       "2018-11-04 01:15:00         2.5  56.000000  220.5   0.50    4.50  94.000000   \n",
       "2018-11-04 01:30:00         7.8  55.400000  242.0   1.20    5.80  93.800000   \n",
       "2018-11-04 01:45:00         9.5  55.500000  246.5   1.75    5.75  93.500000   \n",
       "2018-11-04 02:00:00        14.0  55.000000  253.0   3.00   10.00  94.000000   \n",
       "\n",
       "                     precip  station_cat  seconds  minute_of_day  \n",
       "time                                                              \n",
       "2018-11-04 01:00:00     0.0          1.0      2.0          67.00  \n",
       "2018-11-04 01:15:00     0.0          1.0      2.0          79.50  \n",
       "2018-11-04 01:30:00     0.0          1.0      2.0          97.00  \n",
       "2018-11-04 01:45:00     0.0          1.0      2.0         110.75  \n",
       "2018-11-04 02:00:00     0.0          1.0      2.0         122.00  "
      ]
     },
     "execution_count": 44,
     "metadata": {},
     "output_type": "execute_result"
    }
   ],
   "source": [
    "wx_resampled = wx_df.resample('15T',on='time').mean()\n",
    "wx_resampled.head()"
   ]
  },
  {
   "cell_type": "code",
   "execution_count": 46,
   "metadata": {},
   "outputs": [],
   "source": [
    "wx_variances = wx_df.resample('15T',on='time').std()"
   ]
  },
  {
   "cell_type": "code",
   "execution_count": 55,
   "metadata": {},
   "outputs": [
    {
     "data": {
      "text/html": [
       "<div>\n",
       "<style scoped>\n",
       "    .dataframe tbody tr th:only-of-type {\n",
       "        vertical-align: middle;\n",
       "    }\n",
       "\n",
       "    .dataframe tbody tr th {\n",
       "        vertical-align: top;\n",
       "    }\n",
       "\n",
       "    .dataframe thead th {\n",
       "        text-align: right;\n",
       "    }\n",
       "</style>\n",
       "<table border=\"1\" class=\"dataframe\">\n",
       "  <thead>\n",
       "    <tr style=\"text-align: right;\">\n",
       "      <th></th>\n",
       "      <th>Unnamed: 0</th>\n",
       "      <th>T</th>\n",
       "      <th>w_dir</th>\n",
       "      <th>w_spd</th>\n",
       "      <th>w_gust</th>\n",
       "      <th>rh</th>\n",
       "      <th>precip</th>\n",
       "      <th>station_cat</th>\n",
       "      <th>seconds</th>\n",
       "      <th>minute_of_day</th>\n",
       "      <th>avg_minute_of_day</th>\n",
       "    </tr>\n",
       "    <tr>\n",
       "      <th>time</th>\n",
       "      <th></th>\n",
       "      <th></th>\n",
       "      <th></th>\n",
       "      <th></th>\n",
       "      <th></th>\n",
       "      <th></th>\n",
       "      <th></th>\n",
       "      <th></th>\n",
       "      <th></th>\n",
       "      <th></th>\n",
       "      <th></th>\n",
       "    </tr>\n",
       "  </thead>\n",
       "  <tbody>\n",
       "    <tr>\n",
       "      <th>2018-11-04 01:00:00</th>\n",
       "      <td>4.358899</td>\n",
       "      <td>0.577350</td>\n",
       "      <td>12.124356</td>\n",
       "      <td>0.000000</td>\n",
       "      <td>3.464102</td>\n",
       "      <td>0.577350</td>\n",
       "      <td>0.0</td>\n",
       "      <td>0.0</td>\n",
       "      <td>0.0</td>\n",
       "      <td>5.000000</td>\n",
       "      <td>67.00</td>\n",
       "    </tr>\n",
       "    <tr>\n",
       "      <th>2018-11-04 01:15:00</th>\n",
       "      <td>0.707107</td>\n",
       "      <td>0.000000</td>\n",
       "      <td>23.334524</td>\n",
       "      <td>0.707107</td>\n",
       "      <td>0.707107</td>\n",
       "      <td>0.000000</td>\n",
       "      <td>0.0</td>\n",
       "      <td>0.0</td>\n",
       "      <td>0.0</td>\n",
       "      <td>3.535534</td>\n",
       "      <td>79.50</td>\n",
       "    </tr>\n",
       "    <tr>\n",
       "      <th>2018-11-04 01:30:00</th>\n",
       "      <td>3.114482</td>\n",
       "      <td>0.547723</td>\n",
       "      <td>10.677078</td>\n",
       "      <td>2.167948</td>\n",
       "      <td>1.788854</td>\n",
       "      <td>0.447214</td>\n",
       "      <td>0.0</td>\n",
       "      <td>0.0</td>\n",
       "      <td>0.0</td>\n",
       "      <td>5.000000</td>\n",
       "      <td>97.00</td>\n",
       "    </tr>\n",
       "    <tr>\n",
       "      <th>2018-11-04 01:45:00</th>\n",
       "      <td>3.511885</td>\n",
       "      <td>0.577350</td>\n",
       "      <td>10.661457</td>\n",
       "      <td>2.362908</td>\n",
       "      <td>4.924429</td>\n",
       "      <td>0.577350</td>\n",
       "      <td>0.0</td>\n",
       "      <td>0.0</td>\n",
       "      <td>0.0</td>\n",
       "      <td>4.787136</td>\n",
       "      <td>110.75</td>\n",
       "    </tr>\n",
       "    <tr>\n",
       "      <th>2018-11-04 02:00:00</th>\n",
       "      <td>NaN</td>\n",
       "      <td>NaN</td>\n",
       "      <td>NaN</td>\n",
       "      <td>NaN</td>\n",
       "      <td>NaN</td>\n",
       "      <td>NaN</td>\n",
       "      <td>NaN</td>\n",
       "      <td>NaN</td>\n",
       "      <td>NaN</td>\n",
       "      <td>NaN</td>\n",
       "      <td>122.00</td>\n",
       "    </tr>\n",
       "  </tbody>\n",
       "</table>\n",
       "</div>"
      ],
      "text/plain": [
       "                     Unnamed: 0         T      w_dir     w_spd    w_gust  \\\n",
       "time                                                                       \n",
       "2018-11-04 01:00:00    4.358899  0.577350  12.124356  0.000000  3.464102   \n",
       "2018-11-04 01:15:00    0.707107  0.000000  23.334524  0.707107  0.707107   \n",
       "2018-11-04 01:30:00    3.114482  0.547723  10.677078  2.167948  1.788854   \n",
       "2018-11-04 01:45:00    3.511885  0.577350  10.661457  2.362908  4.924429   \n",
       "2018-11-04 02:00:00         NaN       NaN        NaN       NaN       NaN   \n",
       "\n",
       "                           rh  precip  station_cat  seconds  minute_of_day  \\\n",
       "time                                                                         \n",
       "2018-11-04 01:00:00  0.577350     0.0          0.0      0.0       5.000000   \n",
       "2018-11-04 01:15:00  0.000000     0.0          0.0      0.0       3.535534   \n",
       "2018-11-04 01:30:00  0.447214     0.0          0.0      0.0       5.000000   \n",
       "2018-11-04 01:45:00  0.577350     0.0          0.0      0.0       4.787136   \n",
       "2018-11-04 02:00:00       NaN     NaN          NaN      NaN            NaN   \n",
       "\n",
       "                     avg_minute_of_day  \n",
       "time                                    \n",
       "2018-11-04 01:00:00              67.00  \n",
       "2018-11-04 01:15:00              79.50  \n",
       "2018-11-04 01:30:00              97.00  \n",
       "2018-11-04 01:45:00             110.75  \n",
       "2018-11-04 02:00:00             122.00  "
      ]
     },
     "execution_count": 55,
     "metadata": {},
     "output_type": "execute_result"
    }
   ],
   "source": [
    "wx_variances['avg_minute_of_day'] = wx_resampled['minute_of_day']\n",
    "wx_variances.head()"
   ]
  },
  {
   "cell_type": "code",
   "execution_count": 56,
   "metadata": {},
   "outputs": [
    {
     "data": {
      "text/plain": [
       "<matplotlib.axes._subplots.AxesSubplot at 0x1581ea3f358>"
      ]
     },
     "execution_count": 56,
     "metadata": {},
     "output_type": "execute_result"
    },
    {
     "data": {
      "image/png": "[encoded data removed]",
      "text/plain": [
       "<Figure size 432x288 with 1 Axes>"
      ]
     },
     "metadata": {
      "needs_background": "light"
     },
     "output_type": "display_data"
    }
   ],
   "source": [
    "wx_variances.plot(kind='scatter',x='avg_minute_of_day',y='w_spd')"
   ]
  },
  {
   "cell_type": "code",
   "execution_count": 57,
   "metadata": {},
   "outputs": [
    {
     "data": {
      "text/plain": [
       "<matplotlib.axes._subplots.AxesSubplot at 0x15824667240>"
      ]
     },
     "execution_count": 57,
     "metadata": {},
     "output_type": "execute_result"
    },
    {
     "data": {
      "image/png": "[encoded data removed]",
      "text/plain": [
       "<Figure size 432x288 with 1 Axes>"
      ]
     },
     "metadata": {
      "needs_background": "light"
     },
     "output_type": "display_data"
    }
   ],
   "source": [
    "wx_variances.plot(kind='scatter',x='avg_minute_of_day',y='w_dir')"
   ]
  },
  {
   "cell_type": "code",
   "execution_count": 58,
   "metadata": {},
   "outputs": [
    {
     "data": {
      "text/html": [
       "<div>\n",
       "<style scoped>\n",
       "    .dataframe tbody tr th:only-of-type {\n",
       "        vertical-align: middle;\n",
       "    }\n",
       "\n",
       "    .dataframe tbody tr th {\n",
       "        vertical-align: top;\n",
       "    }\n",
       "\n",
       "    .dataframe thead th {\n",
       "        text-align: right;\n",
       "    }\n",
       "</style>\n",
       "<table border=\"1\" class=\"dataframe\">\n",
       "  <thead>\n",
       "    <tr style=\"text-align: right;\">\n",
       "      <th></th>\n",
       "      <th>Unnamed: 0</th>\n",
       "      <th>time</th>\n",
       "      <th>T</th>\n",
       "      <th>w_dir</th>\n",
       "      <th>w_spd</th>\n",
       "      <th>w_gust</th>\n",
       "      <th>rh</th>\n",
       "      <th>precip</th>\n",
       "      <th>station_id</th>\n",
       "      <th>time_of_day</th>\n",
       "      <th>station_cat</th>\n",
       "      <th>seconds</th>\n",
       "      <th>minute_of_day</th>\n",
       "    </tr>\n",
       "  </thead>\n",
       "  <tbody>\n",
       "    <tr>\n",
       "      <th>0</th>\n",
       "      <td>0</td>\n",
       "      <td>2019-03-03 12:29:51</td>\n",
       "      <td>52.0</td>\n",
       "      <td>225.0</td>\n",
       "      <td>1.0</td>\n",
       "      <td>2.0</td>\n",
       "      <td>96.0</td>\n",
       "      <td>0.0</td>\n",
       "      <td>KCASANFR1443</td>\n",
       "      <td>12:29:51</td>\n",
       "      <td>4</td>\n",
       "      <td>51</td>\n",
       "      <td>749</td>\n",
       "    </tr>\n",
       "    <tr>\n",
       "      <th>1</th>\n",
       "      <td>1</td>\n",
       "      <td>2019-03-03 12:34:55</td>\n",
       "      <td>52.0</td>\n",
       "      <td>231.0</td>\n",
       "      <td>1.0</td>\n",
       "      <td>2.0</td>\n",
       "      <td>96.0</td>\n",
       "      <td>0.0</td>\n",
       "      <td>KCASANFR1443</td>\n",
       "      <td>12:34:55</td>\n",
       "      <td>4</td>\n",
       "      <td>55</td>\n",
       "      <td>754</td>\n",
       "    </tr>\n",
       "    <tr>\n",
       "      <th>2</th>\n",
       "      <td>2</td>\n",
       "      <td>2019-03-03 12:39:59</td>\n",
       "      <td>52.0</td>\n",
       "      <td>232.0</td>\n",
       "      <td>2.0</td>\n",
       "      <td>3.0</td>\n",
       "      <td>96.0</td>\n",
       "      <td>0.0</td>\n",
       "      <td>KCASANFR1443</td>\n",
       "      <td>12:39:59</td>\n",
       "      <td>4</td>\n",
       "      <td>59</td>\n",
       "      <td>759</td>\n",
       "    </tr>\n",
       "    <tr>\n",
       "      <th>3</th>\n",
       "      <td>3</td>\n",
       "      <td>2019-03-03 12:44:48</td>\n",
       "      <td>52.0</td>\n",
       "      <td>231.0</td>\n",
       "      <td>3.0</td>\n",
       "      <td>4.0</td>\n",
       "      <td>96.0</td>\n",
       "      <td>0.0</td>\n",
       "      <td>KCASANFR1443</td>\n",
       "      <td>12:44:48</td>\n",
       "      <td>4</td>\n",
       "      <td>48</td>\n",
       "      <td>764</td>\n",
       "    </tr>\n",
       "    <tr>\n",
       "      <th>4</th>\n",
       "      <td>4</td>\n",
       "      <td>2019-03-03 12:49:51</td>\n",
       "      <td>52.0</td>\n",
       "      <td>236.0</td>\n",
       "      <td>2.0</td>\n",
       "      <td>3.0</td>\n",
       "      <td>96.0</td>\n",
       "      <td>0.0</td>\n",
       "      <td>KCASANFR1443</td>\n",
       "      <td>12:49:51</td>\n",
       "      <td>4</td>\n",
       "      <td>51</td>\n",
       "      <td>769</td>\n",
       "    </tr>\n",
       "  </tbody>\n",
       "</table>\n",
       "</div>"
      ],
      "text/plain": [
       "   Unnamed: 0                time     T  w_dir  w_spd  w_gust    rh  precip  \\\n",
       "0           0 2019-03-03 12:29:51  52.0  225.0    1.0     2.0  96.0     0.0   \n",
       "1           1 2019-03-03 12:34:55  52.0  231.0    1.0     2.0  96.0     0.0   \n",
       "2           2 2019-03-03 12:39:59  52.0  232.0    2.0     3.0  96.0     0.0   \n",
       "3           3 2019-03-03 12:44:48  52.0  231.0    3.0     4.0  96.0     0.0   \n",
       "4           4 2019-03-03 12:49:51  52.0  236.0    2.0     3.0  96.0     0.0   \n",
       "\n",
       "     station_id time_of_day  station_cat  seconds  minute_of_day  \n",
       "0  KCASANFR1443    12:29:51            4       51            749  \n",
       "1  KCASANFR1443    12:34:55            4       55            754  \n",
       "2  KCASANFR1443    12:39:59            4       59            759  \n",
       "3  KCASANFR1443    12:44:48            4       48            764  \n",
       "4  KCASANFR1443    12:49:51            4       51            769  "
      ]
     },
     "execution_count": 58,
     "metadata": {},
     "output_type": "execute_result"
    }
   ],
   "source": [
    "wx_0 = wx_df[wx_df.station_cat == 0]\n",
    "wx_1 = wx_df[wx_df.station_cat == 1]\n",
    "wx_2 = wx_df[wx_df.station_cat == 2]\n",
    "wx_3 = wx_df[wx_df.station_cat == 3]\n",
    "wx_4 = wx_df[wx_df.station_cat == 4]\n",
    "wx_4.head()"
   ]
  },
  {
   "cell_type": "code",
   "execution_count": 59,
   "metadata": {},
   "outputs": [],
   "source": [
    "wx_0_r = wx_0.resample('15T',on='time').mean()\n",
    "wx_1_r = wx_1.resample('15T',on='time').mean()\n",
    "wx_2_r = wx_2.resample('15T',on='time').mean()\n",
    "wx_3_r = wx_3.resample('15T',on='time').mean()\n",
    "wx_4_r = wx_4.resample('15T',on='time').mean()"
   ]
  },
  {
   "cell_type": "code",
   "execution_count": 72,
   "metadata": {},
   "outputs": [
    {
     "data": {
      "text/plain": [
       "(737060, 737070)"
      ]
     },
     "execution_count": 72,
     "metadata": {},
     "output_type": "execute_result"
    },
    {
     "data": {
      "image/png": "[encoded data removed]",
      "text/plain": [
       "<Figure size 432x288 with 1 Axes>"
      ]
     },
     "metadata": {
      "needs_background": "light"
     },
     "output_type": "display_data"
    }
   ],
   "source": [
    "plt.plot(wx_0_r['T'], c = 'purple')\n",
    "plt.plot(wx_1_r['T'], c = 'yellow')\n",
    "plt.plot(wx_2_r['T'], c = 'blue')\n",
    "plt.plot(wx_3_r['T'], c = 'green')\n",
    "plt.plot(wx_4_r['T'], c = 'orange')\n",
    "plt.xlim(737060, 737070)"
   ]
  },
  {
   "cell_type": "code",
   "execution_count": 66,
   "metadata": {},
   "outputs": [
    {
     "data": {
      "text/plain": [
       "(736994.9005208333, 737158.4223958334)"
      ]
     },
     "execution_count": 66,
     "metadata": {},
     "output_type": "execute_result"
    }
   ],
   "source": [
    "left, right"
   ]
  },
  {
   "cell_type": "code",
   "execution_count": 73,
   "metadata": {},
   "outputs": [
    {
     "data": {
      "text/html": [
       "<div>\n",
       "<style scoped>\n",
       "    .dataframe tbody tr th:only-of-type {\n",
       "        vertical-align: middle;\n",
       "    }\n",
       "\n",
       "    .dataframe tbody tr th {\n",
       "        vertical-align: top;\n",
       "    }\n",
       "\n",
       "    .dataframe thead th {\n",
       "        text-align: right;\n",
       "    }\n",
       "</style>\n",
       "<table border=\"1\" class=\"dataframe\">\n",
       "  <thead>\n",
       "    <tr style=\"text-align: right;\">\n",
       "      <th></th>\n",
       "      <th>station_0</th>\n",
       "    </tr>\n",
       "    <tr>\n",
       "      <th>time</th>\n",
       "      <th></th>\n",
       "    </tr>\n",
       "  </thead>\n",
       "  <tbody>\n",
       "    <tr>\n",
       "      <th>2018-11-04 01:00:00</th>\n",
       "      <td>NaN</td>\n",
       "    </tr>\n",
       "    <tr>\n",
       "      <th>2018-11-04 01:15:00</th>\n",
       "      <td>NaN</td>\n",
       "    </tr>\n",
       "    <tr>\n",
       "      <th>2018-11-04 01:30:00</th>\n",
       "      <td>NaN</td>\n",
       "    </tr>\n",
       "    <tr>\n",
       "      <th>2018-11-04 01:45:00</th>\n",
       "      <td>NaN</td>\n",
       "    </tr>\n",
       "    <tr>\n",
       "      <th>2018-11-04 02:00:00</th>\n",
       "      <td>NaN</td>\n",
       "    </tr>\n",
       "  </tbody>\n",
       "</table>\n",
       "</div>"
      ],
      "text/plain": [
       "                     station_0\n",
       "time                          \n",
       "2018-11-04 01:00:00        NaN\n",
       "2018-11-04 01:15:00        NaN\n",
       "2018-11-04 01:30:00        NaN\n",
       "2018-11-04 01:45:00        NaN\n",
       "2018-11-04 02:00:00        NaN"
      ]
     },
     "execution_count": 73,
     "metadata": {},
     "output_type": "execute_result"
    }
   ],
   "source": [
    "wx_deltas = pd.DataFrame()\n",
    "wx_deltas['station_0'] = wx_0_r['T'] - wx_resampled['T']\n",
    "wx_deltas.head()"
   ]
  },
  {
   "cell_type": "code",
   "execution_count": 74,
   "metadata": {},
   "outputs": [
    {
     "data": {
      "text/plain": [
       "-0.4237947358559194"
      ]
     },
     "execution_count": 74,
     "metadata": {},
     "output_type": "execute_result"
    }
   ],
   "source": [
    "wx_deltas.station_0.mean()"
   ]
  },
  {
   "cell_type": "code",
   "execution_count": null,
   "metadata": {},
   "outputs": [],
   "source": []
  }
 ],
 "metadata": {
  "kernelspec": {
   "display_name": "Python 3",
   "language": "python",
   "name": "python3"
  },
  "language_info": {
   "codemirror_mode": {
    "name": "ipython",
    "version": 3
   },
   "file_extension": ".py",
   "mimetype": "text/x-python",
   "name": "python",
   "nbconvert_exporter": "python",
   "pygments_lexer": "ipython3",
   "version": "3.7.3"
  }
 },
 "nbformat": 4,
 "nbformat_minor": 2
}
